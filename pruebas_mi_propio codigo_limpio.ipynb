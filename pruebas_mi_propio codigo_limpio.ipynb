{
 "cells": [
  {
   "cell_type": "code",
   "execution_count": 1,
   "metadata": {},
   "outputs": [],
   "source": [
    "import numpy as np\n",
    "import matplotlib.pyplot as plt\n",
    "from scipy import linalg \n",
    "import matplotlib.pyplot as plt \n",
    "import grn_networks\n",
    "import network_tools as nt\n",
    "import networkx as nx\n",
    "import pandas as pd"
   ]
  },
  {
   "cell_type": "markdown",
   "metadata": {},
   "source": [
    "# Import E coli network"
   ]
  },
  {
   "cell_type": "code",
   "execution_count": 2,
   "metadata": {},
   "outputs": [],
   "source": [
    "def ldata(archive):\n",
    "    f=open(archive)\n",
    "    data=[]\n",
    "    for line in f:\n",
    "        e=line.strip()\n",
    "        col=line.split()\n",
    "        #print(len(col))\n",
    "        if len(col)!=0:\n",
    "            data.append(col)\t\n",
    "    return data\n",
    "\n",
    "data=ldata(\"red_simplificada.txt\") "
   ]
  },
  {
   "cell_type": "code",
   "execution_count": 3,
   "metadata": {},
   "outputs": [],
   "source": [
    "source = []\n",
    "target = []\n",
    "weight = []\n",
    "for i in data:\n",
    "    source.append(i[0])\n",
    "    target.append(i[1])\n",
    "    weight.append(i[2])"
   ]
  },
  {
   "cell_type": "code",
   "execution_count": 4,
   "metadata": {},
   "outputs": [],
   "source": [
    "weight_float = []\n",
    "for i in weight:\n",
    "    if i == \"+\":\n",
    "        weight_float.append(1.0)\n",
    "    else:\n",
    "        weight_float.append(-1.0)"
   ]
  },
  {
   "cell_type": "code",
   "execution_count": 5,
   "metadata": {},
   "outputs": [],
   "source": [
    "df= pd.DataFrame({'source': source,'target': target,'weight': weight_float})"
   ]
  },
  {
   "cell_type": "code",
   "execution_count": 6,
   "metadata": {},
   "outputs": [],
   "source": [
    "G=nx.from_pandas_edgelist(df, 'source', 'target', edge_attr = 'weight', create_using=nx.DiGraph)"
   ]
  },
  {
   "cell_type": "code",
   "execution_count": 7,
   "metadata": {},
   "outputs": [
    {
     "name": "stdout",
     "output_type": "stream",
     "text": [
      "Deleted nodes: 3064 (23 roots, 3041 leaves)\n",
      "Deleted nodes: 95 (2 roots, 93 leaves)\n",
      "Deleted nodes: 14 (0 roots, 14 leaves)\n",
      "Deleted nodes: 2 (0 roots, 2 leaves)\n",
      "Deleted nodes: 1 (0 roots, 1 leaves)\n"
     ]
    }
   ],
   "source": [
    "graph = nt.prune_graph(G, verbose=1)"
   ]
  },
  {
   "cell_type": "code",
   "execution_count": 8,
   "metadata": {},
   "outputs": [],
   "source": [
    "a = nx.to_pandas_adjacency(graph)"
   ]
  },
  {
   "cell_type": "code",
   "execution_count": 9,
   "metadata": {},
   "outputs": [],
   "source": [
    "arr = a.to_numpy()"
   ]
  },
  {
   "cell_type": "code",
   "execution_count": 10,
   "metadata": {},
   "outputs": [],
   "source": [
    "adj_matrix = np.asarray(arr)"
   ]
  },
  {
   "cell_type": "code",
   "execution_count": 11,
   "metadata": {},
   "outputs": [],
   "source": [
    "adj_matrix = adj_matrix.T"
   ]
  },
  {
   "cell_type": "code",
   "execution_count": 12,
   "metadata": {},
   "outputs": [
    {
     "data": {
      "text/plain": [
       "array([[-1.,  1.,  0.,  0.],\n",
       "       [-1.,  1.,  0.,  0.],\n",
       "       [ 0.,  0.,  1.,  0.],\n",
       "       [ 0.,  0., -1.,  0.]])"
      ]
     },
     "execution_count": 12,
     "metadata": {},
     "output_type": "execute_result"
    }
   ],
   "source": [
    "adj_matrix[:4,:4]"
   ]
  },
  {
   "cell_type": "markdown",
   "metadata": {},
   "source": [
    "# Dataset con inputs lineales y oscilatorios"
   ]
  },
  {
   "cell_type": "code",
   "execution_count": 13,
   "metadata": {},
   "outputs": [],
   "source": [
    "# generate dataset\n",
    "import datasets_sol as datasets\n",
    "#import datasets_sol_osc as datasets\n",
    "sample_len=1000\n",
    "n_samples=100\n",
    "[x, y, x_der] = datasets.ga3(n_samples=n_samples, sample_len=sample_len)"
   ]
  },
  {
   "cell_type": "code",
   "execution_count": 14,
   "metadata": {},
   "outputs": [
    {
     "name": "stdout",
     "output_type": "stream",
     "text": [
      "Computing spectral radius...\n",
      "done.\n"
     ]
    }
   ],
   "source": [
    "# generate the ESN reservoir\n",
    "inSize = 1\n",
    "outSize = 3\n",
    "resSize = adj_matrix.shape[0]\n",
    "np.random.seed(42)\n",
    "# w_in -0.05 or 0.05\n",
    "#Win  = (np.random.randint(0, 2, (resSize,1+inSize))*2 - 1)*0.05\n",
    "Win  = (np.random.randint(0, 2, (resSize,inSize))*2 - 1)*0.05\n",
    "# w between -1 and 1, conserving the original sign of the dataset\n",
    "#W = adj_matrix * (np.random.random(adj_matrix.shape)*2-1)\n",
    "W = adj_matrix * (np.random.random(adj_matrix.shape))\n",
    "# normalizing and setting spectral radius (correct, slow):\n",
    "print('Computing spectral radius...')\n",
    "rhoW = max(abs(linalg.eig(W)[0]))\n",
    "print('done.')\n",
    "W *= 0.9 / rhoW\n"
   ]
  },
  {
   "cell_type": "code",
   "execution_count": 15,
   "metadata": {},
   "outputs": [],
   "source": [
    "import warnings\n",
    "import numpy as np\n",
    "from scipy.integrate import odeint \n",
    "def simulate_reservoir_dynamics(weights, input_weights, input_der, sample_len,\n",
    "                                init_state=None):\n",
    "    \"\"\"Simulate the dynamics of a reservoir.\n",
    "\n",
    "    Given the internal weights that define the reservoir, the input weights,\n",
    "    the input signal stream, the initial state and the integrative function\n",
    "    that the nodes apply, it computes the dynamics of the reservoir.\n",
    "\n",
    "    Parameters\n",
    "    ----------\n",
    "    weights : numpy array\n",
    "        Weighted adjacency matrix that defines the connectivity of the\n",
    "        reservoir. Must be squared.\n",
    "    input_weights : numpy array\n",
    "        Weights that determine the effect of the input signal stream on each of\n",
    "        the nodes of the reservoir. Rows are input streams (there might be more\n",
    "        than one) and columns correspond to reservoir nodes (equal to number of\n",
    "        rows and columns of `weights`).\n",
    "    init_state : None, numpy array, optional (default=None)\n",
    "        Value of the nodes of the reservoir at the initial time step. It must\n",
    "        be a 1-dimensional vector of the length of the reservoir size. If\n",
    "        `None` all nodes are initialized at `0`.\n",
    "    node_function : None, Function, optional (default=None)\n",
    "        Function applied to the weigted sum of all the incomming connections of\n",
    "        a node to compute its state. It defaults to the hiperbolic tangent.\n",
    "    \"\"\"\n",
    "    nnodes = weights.shape[0]\n",
    "    k=0.05 # protein production\n",
    "    d=0.05 # protein degradation\n",
    "    \n",
    "    def sigmoid(x):\n",
    "        return 0.5*((x-0.5)/np.sqrt((x-0.5)**2+0.1)+1)\n",
    "    \n",
    "    def input_signal(t, input_der):\n",
    "        if (input_der > 0.0008) and (input_der < 0.001):\n",
    "            return input_der*t \n",
    "        elif (input_der > -0.0001) and (input_der < 0.0001):\n",
    "            return input_der*t + 0.5\n",
    "        else:\n",
    "            return input_der*t + 1.0\n",
    "        \n",
    "    def dyn(x, t, input_der):\n",
    "        \n",
    "        dxdt = np.zeros(nnodes)\n",
    "        r = np.dot(weights, x)\n",
    "        for i in range(nnodes):\n",
    "            \"\"\" r = 0\n",
    "            for j in range(nnodes):\n",
    "                r += weights[j][i] * x[j] \"\"\"\n",
    "            dxdt[i] = k * sigmoid(input_weights[i]*input_signal(t, input_der) + r[i]) - d * x[i] # dinamica de los genes del reservorio, ecuacion 1 del TFM\n",
    "         \n",
    "        return dxdt\n",
    "\n",
    "\n",
    "    x0 = np.repeat(0,nnodes)\n",
    "    if init_state is not None:\n",
    "        x0 = init_state \n",
    "    \n",
    "    t = np.linspace(0,sample_len,sample_len)\n",
    "\n",
    "    x = odeint(dyn, x0, t, args=(input_der,))\n",
    "    \n",
    "    #np.savetxt('output.csv', x)\n",
    "    return x.T"
   ]
  },
  {
   "cell_type": "code",
   "execution_count": 16,
   "metadata": {},
   "outputs": [],
   "source": [
    "xxT = 0\n",
    "yxT = 0\n",
    "for i in range(len(x)):\n",
    "    input_der = x_der[i]\n",
    "    y_target =  y[i].T # nout * lensteps\n",
    "    res_dynamics = simulate_reservoir_dynamics(W, Win, input_der, sample_len)\n",
    "    # res_dynamics.shape = nodes * sample_len\n",
    "    #res_dynamics = np.vstack([np.ones(sample_len)/n_samples, res_dynamics])\n",
    "    xxT += (np.dot(res_dynamics, res_dynamics.T))\n",
    "    yxT += (np.dot(y_target, res_dynamics.T))"
   ]
  },
  {
   "cell_type": "code",
   "execution_count": 17,
   "metadata": {},
   "outputs": [],
   "source": [
    "reg = 1e-8 \n",
    "#Wout = np.dot( yxT, linalg.inv( xxT  + reg*np.eye(1+resSize) ) )\n",
    "Wout = np.dot( yxT, linalg.inv( xxT  + reg*np.eye(resSize) ) )"
   ]
  },
  {
   "cell_type": "markdown",
   "metadata": {},
   "source": [
    "# Prediccion"
   ]
  },
  {
   "cell_type": "code",
   "execution_count": 18,
   "metadata": {},
   "outputs": [],
   "source": [
    "def input_signal(t, input_der):\n",
    "        if (input_der > 0.0008) and (input_der < 0.001):\n",
    "            return input_der*t \n",
    "        elif (input_der > -0.0001) and (input_der < 0.0001):\n",
    "            return input_der*t + 0.5\n",
    "        else:\n",
    "            return input_der*t + 1.0"
   ]
  },
  {
   "cell_type": "code",
   "execution_count": 45,
   "metadata": {},
   "outputs": [],
   "source": [
    "sample_len=1000\n",
    "[x_test, y_test, x_der_test] = datasets.ga3(n_samples=1, sample_len=sample_len)"
   ]
  },
  {
   "cell_type": "code",
   "execution_count": 46,
   "metadata": {},
   "outputs": [
    {
     "data": {
      "text/plain": [
       "(-0.5, 2.0)"
      ]
     },
     "execution_count": 46,
     "metadata": {},
     "output_type": "execute_result"
    },
    {
     "data": {
      "image/png": "[encoded data removed]",
      "text/plain": [
       "<Figure size 640x480 with 1 Axes>"
      ]
     },
     "metadata": {},
     "output_type": "display_data"
    }
   ],
   "source": [
    "plt.plot(x_test[0])\n",
    "plt.plot(input_signal(np.linspace(0,1000,1000), x_der_test[0]))\n",
    "plt.ylim((-0.5,2))"
   ]
  },
  {
   "cell_type": "code",
   "execution_count": 25,
   "metadata": {},
   "outputs": [],
   "source": [
    "import warnings\n",
    "import numpy as np\n",
    "from scipy.integrate import odeint \n",
    "def simulate_reservoir_w_out_dynamics(weights, input_weights, input_der, sample_len,\n",
    "                                 output_weights, init_state=None):\n",
    "    \"\"\"Simulate the dynamics of a reservoir.\n",
    "\n",
    "    Given the internal weights that define the reservoir, the input weights,\n",
    "    the input signal stream, the initial state and the integrative function\n",
    "    that the nodes apply, it computes the dynamics of the reservoir.\n",
    "\n",
    "    Parameters\n",
    "    ----------\n",
    "    weights : numpy array\n",
    "        Weighted adjacency matrix that defines the connectivity of the\n",
    "        reservoir. Must be squared.\n",
    "    input_weights : numpy array\n",
    "        Weights that determine the effect of the input signal stream on each of\n",
    "        the nodes of the reservoir. Rows are input streams (there might be more\n",
    "        than one) and columns correspond to reservoir nodes (equal to number of\n",
    "        rows and columns of `weights`).\n",
    "    init_state : None, numpy array, optional (default=None)\n",
    "        Value of the nodes of the reservoir at the initial time step. It must\n",
    "        be a 1-dimensional vector of the length of the reservoir size. If\n",
    "        `None` all nodes are initialized at `0`.\n",
    "    node_function : None, Function, optional (default=None)\n",
    "        Function applied to the weigted sum of all the incomming connections of\n",
    "        a node to compute its state. It defaults to the hiperbolic tangent.\n",
    "    \"\"\"\n",
    "    nnodes = weights.shape[0]\n",
    "    n_outs = output_weights.shape[0] # Wout = nout * nnodes\n",
    "    tot = nnodes + n_outs\n",
    "    k=0.05 # protein production\n",
    "    d=0.05 # protein degradation\n",
    "    \n",
    "    def sigmoid(x):\n",
    "        return 0.5*((x-0.5)/np.sqrt((x-0.5)**2+0.1)+1)\n",
    "    \n",
    "    def input_signal(t, input_der):\n",
    "        if (input_der > 0.0008) and (input_der < 0.001):\n",
    "            return input_der*t \n",
    "        elif (input_der > -0.0001) and (input_der < 0.0001):\n",
    "            return input_der*t + 0.5\n",
    "        else:\n",
    "            return input_der*t + 1.0\n",
    "        \n",
    "    def dyn(x, t, input_der):\n",
    "        dxdt = np.zeros(tot)\n",
    "        x_res = x[:nnodes]\n",
    "        x_out = x[nnodes:]\n",
    "        r = np.dot(weights, x_res)\n",
    "        r_out = np.dot(output_weights, x_res)\n",
    "        for i in range(nnodes):\n",
    "            dxdt[i] = k * sigmoid(input_weights[i]*input_signal(t, input_der) + r[i]) - d * x_res[i] # dinamica de los genes del reservorio, ecuacion 1 del TFM\n",
    "        for i in range(n_outs): # dinamica de los genes del output\n",
    "            dxdt[i+nnodes] = k * sigmoid(r_out[i]) - d * x_out[i] \n",
    "        return dxdt\n",
    "\n",
    "\n",
    "    x0 = np.repeat(0,tot)\n",
    "    if init_state is not None:\n",
    "        x0 = init_state \n",
    "    \n",
    "    t = np.linspace(0,sample_len,sample_len)\n",
    "\n",
    "    x = odeint(dyn, x0, t, args=(input_der,))\n",
    "    \n",
    "    #np.savetxt('output.csv', x)\n",
    "    return x.T"
   ]
  },
  {
   "cell_type": "code",
   "execution_count": 47,
   "metadata": {},
   "outputs": [],
   "source": [
    "input_der = x_der_test[0]\n",
    "y_target =  y_test[0].T # nout * lensteps\n",
    "res_dynamics = simulate_reservoir_w_out_dynamics(W, Win, input_der, sample_len, Wout)\n",
    "# res_dynamics.shape = nodes * sample_len\n",
    "#res_dynamics = np.vstack([np.ones(sample_len), res_dynamics])\n",
    "#y_pred = np.dot(Wout, res_dynamics)"
   ]
  },
  {
   "cell_type": "code",
   "execution_count": 48,
   "metadata": {},
   "outputs": [],
   "source": [
    "y_pred = res_dynamics[70:]"
   ]
  },
  {
   "cell_type": "code",
   "execution_count": 49,
   "metadata": {},
   "outputs": [
    {
     "data": {
      "text/plain": [
       "(-0.05, 1.05)"
      ]
     },
     "execution_count": 49,
     "metadata": {},
     "output_type": "execute_result"
    },
    {
     "data": {
      "image/png": "[encoded data removed]",
      "text/plain": [
       "<Figure size 640x480 with 1 Axes>"
      ]
     },
     "metadata": {},
     "output_type": "display_data"
    }
   ],
   "source": [
    "plt.plot(y_pred[0])\n",
    "plt.plot(y_target[0])\n",
    "plt.ylim((-0.05, 1.05))"
   ]
  },
  {
   "cell_type": "code",
   "execution_count": 50,
   "metadata": {},
   "outputs": [
    {
     "data": {
      "text/plain": [
       "(-0.05, 1.05)"
      ]
     },
     "execution_count": 50,
     "metadata": {},
     "output_type": "execute_result"
    },
    {
     "data": {
      "image/png": "[encoded data removed]",
      "text/plain": [
       "<Figure size 640x480 with 1 Axes>"
      ]
     },
     "metadata": {},
     "output_type": "display_data"
    }
   ],
   "source": [
    "plt.plot(y_pred[1])\n",
    "plt.plot(y_target[1])\n",
    "plt.ylim((-0.05, 1.05))"
   ]
  },
  {
   "cell_type": "code",
   "execution_count": 51,
   "metadata": {},
   "outputs": [
    {
     "data": {
      "text/plain": [
       "(-0.05, 1.05)"
      ]
     },
     "execution_count": 51,
     "metadata": {},
     "output_type": "execute_result"
    },
    {
     "data": {
      "image/png": "[encoded data removed]",
      "text/plain": [
       "<Figure size 640x480 with 1 Axes>"
      ]
     },
     "metadata": {},
     "output_type": "display_data"
    }
   ],
   "source": [
    "plt.plot(y_pred[2])\n",
    "plt.plot(y_target[2])\n",
    "plt.ylim((-0.05, 1.05))"
   ]
  },
  {
   "cell_type": "markdown",
   "metadata": {},
   "source": [
    "# Training 4th gene"
   ]
  },
  {
   "cell_type": "code",
   "execution_count": 33,
   "metadata": {},
   "outputs": [],
   "source": [
    "sample_len=1000\n",
    "n_samples=100\n",
    "[x, y, x_der] = datasets.gaosc(n_samples=n_samples, sample_len=sample_len)"
   ]
  },
  {
   "cell_type": "code",
   "execution_count": 34,
   "metadata": {},
   "outputs": [],
   "source": [
    "xxT = 0\n",
    "yxT = 0\n",
    "for i in range(len(x)):\n",
    "    input_der = x_der[i]\n",
    "    y_target =  y[i].T # nout * lensteps\n",
    "    res_dynamics = simulate_reservoir_dynamics(W, Win, input_der, sample_len)\n",
    "    # res_dynamics.shape = nodes * sample_len\n",
    "    #res_dynamics = np.vstack([np.ones(sample_len)/n_samples, res_dynamics])\n",
    "    xxT += (np.dot(res_dynamics, res_dynamics.T))\n",
    "    yxT += (np.dot(y_target, res_dynamics.T))"
   ]
  },
  {
   "cell_type": "code",
   "execution_count": 35,
   "metadata": {},
   "outputs": [],
   "source": [
    "reg = 1e-8 \n",
    "#Wout = np.dot( yxT, linalg.inv( xxT  + reg*np.eye(1+resSize) ) )\n",
    "Wout = np.dot( yxT, linalg.inv( xxT  + reg*np.eye(resSize) ) )"
   ]
  },
  {
   "cell_type": "code",
   "execution_count": 36,
   "metadata": {},
   "outputs": [
    {
     "data": {
      "text/plain": [
       "(1, 70)"
      ]
     },
     "execution_count": 36,
     "metadata": {},
     "output_type": "execute_result"
    }
   ],
   "source": [
    "Wout.shape"
   ]
  },
  {
   "cell_type": "code",
   "execution_count": 72,
   "metadata": {},
   "outputs": [],
   "source": [
    "sample_len=1000\n",
    "[x_test, y_test, x_der_test] = datasets.gaosc(n_samples=1, sample_len=sample_len)"
   ]
  },
  {
   "cell_type": "code",
   "execution_count": 73,
   "metadata": {},
   "outputs": [
    {
     "data": {
      "text/plain": [
       "[<matplotlib.lines.Line2D at 0x7f4bacc100a0>]"
      ]
     },
     "execution_count": 73,
     "metadata": {},
     "output_type": "execute_result"
    },
    {
     "data": {
      "image/png": "[encoded data removed]",
      "text/plain": [
       "<Figure size 640x480 with 1 Axes>"
      ]
     },
     "metadata": {},
     "output_type": "display_data"
    }
   ],
   "source": [
    "plt.plot(x_test[0])\n",
    "plt.plot(input_signal(np.linspace(0,1000,1000), x_der_test[0]))"
   ]
  },
  {
   "cell_type": "code",
   "execution_count": 74,
   "metadata": {},
   "outputs": [],
   "source": [
    "input_der = x_der_test[0]\n",
    "y_target =  y_test[0].T # nout * lensteps\n",
    "res_dynamics = simulate_reservoir_w_out_dynamics(W, Win, input_der, sample_len, Wout)\n",
    "# res_dynamics.shape = nodes * sample_len\n",
    "#res_dynamics = np.vstack([np.ones(sample_len), res_dynamics])\n",
    "#y_pred = np.dot(Wout, res_dynamics)"
   ]
  },
  {
   "cell_type": "code",
   "execution_count": 75,
   "metadata": {},
   "outputs": [
    {
     "data": {
      "text/plain": [
       "(71, 1000)"
      ]
     },
     "execution_count": 75,
     "metadata": {},
     "output_type": "execute_result"
    }
   ],
   "source": [
    "res_dynamics.shape"
   ]
  },
  {
   "cell_type": "code",
   "execution_count": 76,
   "metadata": {},
   "outputs": [],
   "source": [
    "y_pred = res_dynamics[70:]"
   ]
  },
  {
   "cell_type": "code",
   "execution_count": 77,
   "metadata": {},
   "outputs": [
    {
     "data": {
      "text/plain": [
       "(-0.05, 1.05)"
      ]
     },
     "execution_count": 77,
     "metadata": {},
     "output_type": "execute_result"
    },
    {
     "data": {
      "image/png": "[encoded data removed]",
      "text/plain": [
       "<Figure size 640x480 with 1 Axes>"
      ]
     },
     "metadata": {},
     "output_type": "display_data"
    }
   ],
   "source": [
    "plt.plot(y_pred[0])\n",
    "plt.plot(y_target[0])\n",
    "plt.ylim((-0.05, 1.05))"
   ]
  }
 ],
 "metadata": {
  "kernelspec": {
   "display_name": "Python 3.9.12 ('base')",
   "language": "python",
   "name": "python3"
  },
  "language_info": {
   "codemirror_mode": {
    "name": "ipython",
    "version": 3
   },
   "file_extension": ".py",
   "mimetype": "text/x-python",
   "name": "python",
   "nbconvert_exporter": "python",
   "pygments_lexer": "ipython3",
   "version": "3.9.18"
  },
  "orig_nbformat": 4,
  "vscode": {
   "interpreter": {
    "hash": "1d0c3caab67cdc3cb671aad33f4d3ea243842a14d4ea407190d5b54cd82f317a"
   }
  }
 },
 "nbformat": 4,
 "nbformat_minor": 2
}
