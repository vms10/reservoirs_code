{
 "cells": [
  {
   "cell_type": "code",
   "execution_count": 3,
   "metadata": {},
   "outputs": [],
   "source": [
    "import numpy as np\n",
    "import matplotlib.pyplot as plt\n",
    "from scipy import linalg \n",
    "import matplotlib.pyplot as plt "
   ]
  },
  {
   "cell_type": "markdown",
   "metadata": {},
   "source": [
    "# Import E coli network"
   ]
  },
  {
   "cell_type": "code",
   "execution_count": 8,
   "metadata": {},
   "outputs": [],
   "source": [
    "def ldata(archive):\n",
    "    f=open(archive)\n",
    "    data=[]\n",
    "    for line in f:\n",
    "        e=line.strip()\n",
    "        col=line.split()\n",
    "        #print(len(col))\n",
    "        if len(col)!=0:\n",
    "            data.append(col)\t\n",
    "    return data\n",
    "\n",
    "data=ldata(\"red_simplificada.txt\") "
   ]
  },
  {
   "cell_type": "code",
   "execution_count": 11,
   "metadata": {},
   "outputs": [],
   "source": [
    "source = []\n",
    "target = []\n",
    "weight = []\n",
    "for i in data:\n",
    "    source.append(i[0])\n",
    "    target.append(i[1])\n",
    "    weight.append(i[2])"
   ]
  },
  {
   "cell_type": "code",
   "execution_count": 12,
   "metadata": {},
   "outputs": [],
   "source": [
    "weight_float = []\n",
    "for i in weight:\n",
    "    if i == \"+\":\n",
    "        weight_float.append(1.0)\n",
    "    else:\n",
    "        weight_float.append(-1.0)\n"
   ]
  },
  {
   "cell_type": "code",
   "execution_count": 14,
   "metadata": {},
   "outputs": [
    {
     "data": {
      "text/plain": [
       "(8373, 8373)"
      ]
     },
     "execution_count": 14,
     "metadata": {},
     "output_type": "execute_result"
    }
   ],
   "source": [
    "len(weight_float ), len(weight)"
   ]
  },
  {
   "cell_type": "code",
   "execution_count": 15,
   "metadata": {},
   "outputs": [
    {
     "data": {
      "text/plain": [
       "([1.0, 1.0, -1.0, -1.0, -1.0, -1.0, -1.0, -1.0, -1.0, -1.0],\n",
       " ['+', '+', '-', '-', '-', '-', '-', '-', '-', '-'])"
      ]
     },
     "execution_count": 15,
     "metadata": {},
     "output_type": "execute_result"
    }
   ],
   "source": [
    "weight_float[:10], weight[:10]"
   ]
  },
  {
   "cell_type": "code",
   "execution_count": 16,
   "metadata": {},
   "outputs": [],
   "source": [
    "import pandas as pd\n",
    "df= pd.DataFrame({'source': source,'target': target,'weight': weight_float})"
   ]
  },
  {
   "cell_type": "code",
   "execution_count": 18,
   "metadata": {},
   "outputs": [
    {
     "data": {
      "text/html": [
       "<div>\n",
       "<style scoped>\n",
       "    .dataframe tbody tr th:only-of-type {\n",
       "        vertical-align: middle;\n",
       "    }\n",
       "\n",
       "    .dataframe tbody tr th {\n",
       "        vertical-align: top;\n",
       "    }\n",
       "\n",
       "    .dataframe thead th {\n",
       "        text-align: right;\n",
       "    }\n",
       "</style>\n",
       "<table border=\"1\" class=\"dataframe\">\n",
       "  <thead>\n",
       "    <tr style=\"text-align: right;\">\n",
       "      <th></th>\n",
       "      <th>source</th>\n",
       "      <th>target</th>\n",
       "      <th>weight</th>\n",
       "    </tr>\n",
       "  </thead>\n",
       "  <tbody>\n",
       "    <tr>\n",
       "      <th>0</th>\n",
       "      <td>xapR</td>\n",
       "      <td>xapA</td>\n",
       "      <td>1.0</td>\n",
       "    </tr>\n",
       "    <tr>\n",
       "      <th>1</th>\n",
       "      <td>xapR</td>\n",
       "      <td>xapB</td>\n",
       "      <td>1.0</td>\n",
       "    </tr>\n",
       "    <tr>\n",
       "      <th>2</th>\n",
       "      <td>srlR</td>\n",
       "      <td>srlB</td>\n",
       "      <td>-1.0</td>\n",
       "    </tr>\n",
       "    <tr>\n",
       "      <th>3</th>\n",
       "      <td>srlR</td>\n",
       "      <td>srlA</td>\n",
       "      <td>-1.0</td>\n",
       "    </tr>\n",
       "    <tr>\n",
       "      <th>4</th>\n",
       "      <td>srlR</td>\n",
       "      <td>srlE</td>\n",
       "      <td>-1.0</td>\n",
       "    </tr>\n",
       "    <tr>\n",
       "      <th>...</th>\n",
       "      <td>...</td>\n",
       "      <td>...</td>\n",
       "      <td>...</td>\n",
       "    </tr>\n",
       "    <tr>\n",
       "      <th>8368</th>\n",
       "      <td>hns</td>\n",
       "      <td>fimF</td>\n",
       "      <td>1.0</td>\n",
       "    </tr>\n",
       "    <tr>\n",
       "      <th>8369</th>\n",
       "      <td>hns</td>\n",
       "      <td>fimG</td>\n",
       "      <td>1.0</td>\n",
       "    </tr>\n",
       "    <tr>\n",
       "      <th>8370</th>\n",
       "      <td>hns</td>\n",
       "      <td>fimH</td>\n",
       "      <td>1.0</td>\n",
       "    </tr>\n",
       "    <tr>\n",
       "      <th>8371</th>\n",
       "      <td>hns</td>\n",
       "      <td>fimI</td>\n",
       "      <td>1.0</td>\n",
       "    </tr>\n",
       "    <tr>\n",
       "      <th>8372</th>\n",
       "      <td>hns</td>\n",
       "      <td>mdtF</td>\n",
       "      <td>-1.0</td>\n",
       "    </tr>\n",
       "  </tbody>\n",
       "</table>\n",
       "<p>8373 rows × 3 columns</p>\n",
       "</div>"
      ],
      "text/plain": [
       "     source target  weight\n",
       "0      xapR   xapA     1.0\n",
       "1      xapR   xapB     1.0\n",
       "2      srlR   srlB    -1.0\n",
       "3      srlR   srlA    -1.0\n",
       "4      srlR   srlE    -1.0\n",
       "...     ...    ...     ...\n",
       "8368    hns   fimF     1.0\n",
       "8369    hns   fimG     1.0\n",
       "8370    hns   fimH     1.0\n",
       "8371    hns   fimI     1.0\n",
       "8372    hns   mdtF    -1.0\n",
       "\n",
       "[8373 rows x 3 columns]"
      ]
     },
     "execution_count": 18,
     "metadata": {},
     "output_type": "execute_result"
    }
   ],
   "source": [
    "df"
   ]
  },
  {
   "cell_type": "code",
   "execution_count": 19,
   "metadata": {},
   "outputs": [],
   "source": [
    "G=nx.from_pandas_edgelist(df, 'source', 'target', edge_attr = 'weight')"
   ]
  },
  {
   "cell_type": "code",
   "execution_count": 27,
   "metadata": {},
   "outputs": [
    {
     "data": {
      "text/html": [
       "<div>\n",
       "<style scoped>\n",
       "    .dataframe tbody tr th:only-of-type {\n",
       "        vertical-align: middle;\n",
       "    }\n",
       "\n",
       "    .dataframe tbody tr th {\n",
       "        vertical-align: top;\n",
       "    }\n",
       "\n",
       "    .dataframe thead th {\n",
       "        text-align: right;\n",
       "    }\n",
       "</style>\n",
       "<table border=\"1\" class=\"dataframe\">\n",
       "  <thead>\n",
       "    <tr style=\"text-align: right;\">\n",
       "      <th></th>\n",
       "      <th>xapR</th>\n",
       "      <th>xapA</th>\n",
       "      <th>xapB</th>\n",
       "      <th>srlR</th>\n",
       "      <th>srlB</th>\n",
       "      <th>srlA</th>\n",
       "      <th>srlE</th>\n",
       "      <th>srlD</th>\n",
       "      <th>gutQ</th>\n",
       "      <th>gutM</th>\n",
       "      <th>...</th>\n",
       "      <th>insL-3</th>\n",
       "      <th>insL-2</th>\n",
       "      <th>flgK</th>\n",
       "      <th>ynjH</th>\n",
       "      <th>yhiL</th>\n",
       "      <th>yafX</th>\n",
       "      <th>yedV</th>\n",
       "      <th>yafW</th>\n",
       "      <th>flgL</th>\n",
       "      <th>yjjP</th>\n",
       "    </tr>\n",
       "  </thead>\n",
       "  <tbody>\n",
       "    <tr>\n",
       "      <th>xapR</th>\n",
       "      <td>0.0</td>\n",
       "      <td>1.0</td>\n",
       "      <td>1.0</td>\n",
       "      <td>0.0</td>\n",
       "      <td>0.0</td>\n",
       "      <td>0.0</td>\n",
       "      <td>0.0</td>\n",
       "      <td>0.0</td>\n",
       "      <td>0.0</td>\n",
       "      <td>0.0</td>\n",
       "      <td>...</td>\n",
       "      <td>0.0</td>\n",
       "      <td>0.0</td>\n",
       "      <td>0.0</td>\n",
       "      <td>0.0</td>\n",
       "      <td>0.0</td>\n",
       "      <td>0.0</td>\n",
       "      <td>0.0</td>\n",
       "      <td>0.0</td>\n",
       "      <td>0.0</td>\n",
       "      <td>0.0</td>\n",
       "    </tr>\n",
       "    <tr>\n",
       "      <th>xapA</th>\n",
       "      <td>1.0</td>\n",
       "      <td>0.0</td>\n",
       "      <td>0.0</td>\n",
       "      <td>0.0</td>\n",
       "      <td>0.0</td>\n",
       "      <td>0.0</td>\n",
       "      <td>0.0</td>\n",
       "      <td>0.0</td>\n",
       "      <td>0.0</td>\n",
       "      <td>0.0</td>\n",
       "      <td>...</td>\n",
       "      <td>0.0</td>\n",
       "      <td>0.0</td>\n",
       "      <td>0.0</td>\n",
       "      <td>0.0</td>\n",
       "      <td>0.0</td>\n",
       "      <td>0.0</td>\n",
       "      <td>0.0</td>\n",
       "      <td>0.0</td>\n",
       "      <td>0.0</td>\n",
       "      <td>0.0</td>\n",
       "    </tr>\n",
       "    <tr>\n",
       "      <th>xapB</th>\n",
       "      <td>1.0</td>\n",
       "      <td>0.0</td>\n",
       "      <td>0.0</td>\n",
       "      <td>0.0</td>\n",
       "      <td>0.0</td>\n",
       "      <td>0.0</td>\n",
       "      <td>0.0</td>\n",
       "      <td>0.0</td>\n",
       "      <td>0.0</td>\n",
       "      <td>0.0</td>\n",
       "      <td>...</td>\n",
       "      <td>0.0</td>\n",
       "      <td>0.0</td>\n",
       "      <td>0.0</td>\n",
       "      <td>0.0</td>\n",
       "      <td>0.0</td>\n",
       "      <td>0.0</td>\n",
       "      <td>0.0</td>\n",
       "      <td>0.0</td>\n",
       "      <td>0.0</td>\n",
       "      <td>0.0</td>\n",
       "    </tr>\n",
       "    <tr>\n",
       "      <th>srlR</th>\n",
       "      <td>0.0</td>\n",
       "      <td>0.0</td>\n",
       "      <td>0.0</td>\n",
       "      <td>-1.0</td>\n",
       "      <td>-1.0</td>\n",
       "      <td>-1.0</td>\n",
       "      <td>-1.0</td>\n",
       "      <td>-1.0</td>\n",
       "      <td>-1.0</td>\n",
       "      <td>1.0</td>\n",
       "      <td>...</td>\n",
       "      <td>0.0</td>\n",
       "      <td>0.0</td>\n",
       "      <td>0.0</td>\n",
       "      <td>0.0</td>\n",
       "      <td>0.0</td>\n",
       "      <td>0.0</td>\n",
       "      <td>0.0</td>\n",
       "      <td>0.0</td>\n",
       "      <td>0.0</td>\n",
       "      <td>0.0</td>\n",
       "    </tr>\n",
       "    <tr>\n",
       "      <th>srlB</th>\n",
       "      <td>0.0</td>\n",
       "      <td>0.0</td>\n",
       "      <td>0.0</td>\n",
       "      <td>-1.0</td>\n",
       "      <td>0.0</td>\n",
       "      <td>0.0</td>\n",
       "      <td>0.0</td>\n",
       "      <td>0.0</td>\n",
       "      <td>0.0</td>\n",
       "      <td>1.0</td>\n",
       "      <td>...</td>\n",
       "      <td>0.0</td>\n",
       "      <td>0.0</td>\n",
       "      <td>0.0</td>\n",
       "      <td>0.0</td>\n",
       "      <td>0.0</td>\n",
       "      <td>0.0</td>\n",
       "      <td>0.0</td>\n",
       "      <td>0.0</td>\n",
       "      <td>0.0</td>\n",
       "      <td>0.0</td>\n",
       "    </tr>\n",
       "    <tr>\n",
       "      <th>...</th>\n",
       "      <td>...</td>\n",
       "      <td>...</td>\n",
       "      <td>...</td>\n",
       "      <td>...</td>\n",
       "      <td>...</td>\n",
       "      <td>...</td>\n",
       "      <td>...</td>\n",
       "      <td>...</td>\n",
       "      <td>...</td>\n",
       "      <td>...</td>\n",
       "      <td>...</td>\n",
       "      <td>...</td>\n",
       "      <td>...</td>\n",
       "      <td>...</td>\n",
       "      <td>...</td>\n",
       "      <td>...</td>\n",
       "      <td>...</td>\n",
       "      <td>...</td>\n",
       "      <td>...</td>\n",
       "      <td>...</td>\n",
       "      <td>...</td>\n",
       "    </tr>\n",
       "    <tr>\n",
       "      <th>yafX</th>\n",
       "      <td>0.0</td>\n",
       "      <td>0.0</td>\n",
       "      <td>0.0</td>\n",
       "      <td>0.0</td>\n",
       "      <td>0.0</td>\n",
       "      <td>0.0</td>\n",
       "      <td>0.0</td>\n",
       "      <td>0.0</td>\n",
       "      <td>0.0</td>\n",
       "      <td>0.0</td>\n",
       "      <td>...</td>\n",
       "      <td>0.0</td>\n",
       "      <td>0.0</td>\n",
       "      <td>0.0</td>\n",
       "      <td>0.0</td>\n",
       "      <td>0.0</td>\n",
       "      <td>0.0</td>\n",
       "      <td>0.0</td>\n",
       "      <td>0.0</td>\n",
       "      <td>0.0</td>\n",
       "      <td>0.0</td>\n",
       "    </tr>\n",
       "    <tr>\n",
       "      <th>yedV</th>\n",
       "      <td>0.0</td>\n",
       "      <td>0.0</td>\n",
       "      <td>0.0</td>\n",
       "      <td>0.0</td>\n",
       "      <td>0.0</td>\n",
       "      <td>0.0</td>\n",
       "      <td>0.0</td>\n",
       "      <td>0.0</td>\n",
       "      <td>0.0</td>\n",
       "      <td>0.0</td>\n",
       "      <td>...</td>\n",
       "      <td>0.0</td>\n",
       "      <td>0.0</td>\n",
       "      <td>0.0</td>\n",
       "      <td>0.0</td>\n",
       "      <td>0.0</td>\n",
       "      <td>0.0</td>\n",
       "      <td>0.0</td>\n",
       "      <td>0.0</td>\n",
       "      <td>0.0</td>\n",
       "      <td>0.0</td>\n",
       "    </tr>\n",
       "    <tr>\n",
       "      <th>yafW</th>\n",
       "      <td>0.0</td>\n",
       "      <td>0.0</td>\n",
       "      <td>0.0</td>\n",
       "      <td>0.0</td>\n",
       "      <td>0.0</td>\n",
       "      <td>0.0</td>\n",
       "      <td>0.0</td>\n",
       "      <td>0.0</td>\n",
       "      <td>0.0</td>\n",
       "      <td>0.0</td>\n",
       "      <td>...</td>\n",
       "      <td>0.0</td>\n",
       "      <td>0.0</td>\n",
       "      <td>0.0</td>\n",
       "      <td>0.0</td>\n",
       "      <td>0.0</td>\n",
       "      <td>0.0</td>\n",
       "      <td>0.0</td>\n",
       "      <td>0.0</td>\n",
       "      <td>0.0</td>\n",
       "      <td>0.0</td>\n",
       "    </tr>\n",
       "    <tr>\n",
       "      <th>flgL</th>\n",
       "      <td>0.0</td>\n",
       "      <td>0.0</td>\n",
       "      <td>0.0</td>\n",
       "      <td>0.0</td>\n",
       "      <td>0.0</td>\n",
       "      <td>0.0</td>\n",
       "      <td>0.0</td>\n",
       "      <td>0.0</td>\n",
       "      <td>0.0</td>\n",
       "      <td>0.0</td>\n",
       "      <td>...</td>\n",
       "      <td>0.0</td>\n",
       "      <td>0.0</td>\n",
       "      <td>0.0</td>\n",
       "      <td>0.0</td>\n",
       "      <td>0.0</td>\n",
       "      <td>0.0</td>\n",
       "      <td>0.0</td>\n",
       "      <td>0.0</td>\n",
       "      <td>0.0</td>\n",
       "      <td>0.0</td>\n",
       "    </tr>\n",
       "    <tr>\n",
       "      <th>yjjP</th>\n",
       "      <td>0.0</td>\n",
       "      <td>0.0</td>\n",
       "      <td>0.0</td>\n",
       "      <td>0.0</td>\n",
       "      <td>0.0</td>\n",
       "      <td>0.0</td>\n",
       "      <td>0.0</td>\n",
       "      <td>0.0</td>\n",
       "      <td>0.0</td>\n",
       "      <td>0.0</td>\n",
       "      <td>...</td>\n",
       "      <td>0.0</td>\n",
       "      <td>0.0</td>\n",
       "      <td>0.0</td>\n",
       "      <td>0.0</td>\n",
       "      <td>0.0</td>\n",
       "      <td>0.0</td>\n",
       "      <td>0.0</td>\n",
       "      <td>0.0</td>\n",
       "      <td>0.0</td>\n",
       "      <td>0.0</td>\n",
       "    </tr>\n",
       "  </tbody>\n",
       "</table>\n",
       "<p>3243 rows × 3243 columns</p>\n",
       "</div>"
      ],
      "text/plain": [
       "      xapR  xapA  xapB  srlR  srlB  srlA  srlE  srlD  gutQ  gutM  ...  insL-3  \\\n",
       "xapR   0.0   1.0   1.0   0.0   0.0   0.0   0.0   0.0   0.0   0.0  ...     0.0   \n",
       "xapA   1.0   0.0   0.0   0.0   0.0   0.0   0.0   0.0   0.0   0.0  ...     0.0   \n",
       "xapB   1.0   0.0   0.0   0.0   0.0   0.0   0.0   0.0   0.0   0.0  ...     0.0   \n",
       "srlR   0.0   0.0   0.0  -1.0  -1.0  -1.0  -1.0  -1.0  -1.0   1.0  ...     0.0   \n",
       "srlB   0.0   0.0   0.0  -1.0   0.0   0.0   0.0   0.0   0.0   1.0  ...     0.0   \n",
       "...    ...   ...   ...   ...   ...   ...   ...   ...   ...   ...  ...     ...   \n",
       "yafX   0.0   0.0   0.0   0.0   0.0   0.0   0.0   0.0   0.0   0.0  ...     0.0   \n",
       "yedV   0.0   0.0   0.0   0.0   0.0   0.0   0.0   0.0   0.0   0.0  ...     0.0   \n",
       "yafW   0.0   0.0   0.0   0.0   0.0   0.0   0.0   0.0   0.0   0.0  ...     0.0   \n",
       "flgL   0.0   0.0   0.0   0.0   0.0   0.0   0.0   0.0   0.0   0.0  ...     0.0   \n",
       "yjjP   0.0   0.0   0.0   0.0   0.0   0.0   0.0   0.0   0.0   0.0  ...     0.0   \n",
       "\n",
       "      insL-2  flgK  ynjH  yhiL  yafX  yedV  yafW  flgL  yjjP  \n",
       "xapR     0.0   0.0   0.0   0.0   0.0   0.0   0.0   0.0   0.0  \n",
       "xapA     0.0   0.0   0.0   0.0   0.0   0.0   0.0   0.0   0.0  \n",
       "xapB     0.0   0.0   0.0   0.0   0.0   0.0   0.0   0.0   0.0  \n",
       "srlR     0.0   0.0   0.0   0.0   0.0   0.0   0.0   0.0   0.0  \n",
       "srlB     0.0   0.0   0.0   0.0   0.0   0.0   0.0   0.0   0.0  \n",
       "...      ...   ...   ...   ...   ...   ...   ...   ...   ...  \n",
       "yafX     0.0   0.0   0.0   0.0   0.0   0.0   0.0   0.0   0.0  \n",
       "yedV     0.0   0.0   0.0   0.0   0.0   0.0   0.0   0.0   0.0  \n",
       "yafW     0.0   0.0   0.0   0.0   0.0   0.0   0.0   0.0   0.0  \n",
       "flgL     0.0   0.0   0.0   0.0   0.0   0.0   0.0   0.0   0.0  \n",
       "yjjP     0.0   0.0   0.0   0.0   0.0   0.0   0.0   0.0   0.0  \n",
       "\n",
       "[3243 rows x 3243 columns]"
      ]
     },
     "execution_count": 27,
     "metadata": {},
     "output_type": "execute_result"
    }
   ],
   "source": [
    "a = nx.to_pandas_adjacency(G)\n",
    "a"
   ]
  },
  {
   "cell_type": "code",
   "execution_count": 25,
   "metadata": {},
   "outputs": [],
   "source": [
    "arr = a.to_numpy()"
   ]
  },
  {
   "cell_type": "code",
   "execution_count": 28,
   "metadata": {},
   "outputs": [
    {
     "data": {
      "text/plain": [
       "array([[ 0.,  1.,  1.,  0.],\n",
       "       [ 1.,  0.,  0.,  0.],\n",
       "       [ 1.,  0.,  0.,  0.],\n",
       "       [ 0.,  0.,  0., -1.]])"
      ]
     },
     "execution_count": 28,
     "metadata": {},
     "output_type": "execute_result"
    }
   ],
   "source": [
    "arr[:4,:4]"
   ]
  },
  {
   "cell_type": "code",
   "execution_count": 22,
   "metadata": {},
   "outputs": [
    {
     "data": {
      "text/plain": [
       "pandas.core.frame.DataFrame"
      ]
     },
     "execution_count": 22,
     "metadata": {},
     "output_type": "execute_result"
    }
   ],
   "source": [
    "type(a)"
   ]
  },
  {
   "cell_type": "code",
   "execution_count": null,
   "metadata": {},
   "outputs": [],
   "source": [
    "np.savetxt(r'.txt', df.values, fmt='%1.9f')"
   ]
  },
  {
   "cell_type": "code",
   "execution_count": 17,
   "metadata": {},
   "outputs": [
    {
     "ename": "TypeError",
     "evalue": "Mismatch between array dtype ('object') and format specifier ('%.18e %.18e %.18e')",
     "output_type": "error",
     "traceback": [
      "\u001b[0;31m---------------------------------------------------------------------------\u001b[0m",
      "\u001b[0;31mTypeError\u001b[0m                                 Traceback (most recent call last)",
      "File \u001b[0;32m~/anaconda3/lib/python3.9/site-packages/numpy/lib/npyio.py:1608\u001b[0m, in \u001b[0;36msavetxt\u001b[0;34m(fname, X, fmt, delimiter, newline, header, footer, comments, encoding)\u001b[0m\n\u001b[1;32m   1607\u001b[0m \u001b[39mtry\u001b[39;00m:\n\u001b[0;32m-> 1608\u001b[0m     v \u001b[39m=\u001b[39m \u001b[39mformat\u001b[39;49m \u001b[39m%\u001b[39;49m \u001b[39mtuple\u001b[39;49m(row) \u001b[39m+\u001b[39m newline\n\u001b[1;32m   1609\u001b[0m \u001b[39mexcept\u001b[39;00m \u001b[39mTypeError\u001b[39;00m \u001b[39mas\u001b[39;00m e:\n",
      "\u001b[0;31mTypeError\u001b[0m: must be real number, not str",
      "\nThe above exception was the direct cause of the following exception:\n",
      "\u001b[0;31mTypeError\u001b[0m                                 Traceback (most recent call last)",
      "Cell \u001b[0;32mIn[17], line 1\u001b[0m\n\u001b[0;32m----> 1\u001b[0m \u001b[43mnp\u001b[49m\u001b[38;5;241;43m.\u001b[39;49m\u001b[43msavetxt\u001b[49m\u001b[43m(\u001b[49m\u001b[38;5;124;43mr\u001b[39;49m\u001b[38;5;124;43m'\u001b[39;49m\u001b[38;5;124;43mpruena.txt\u001b[39;49m\u001b[38;5;124;43m'\u001b[39;49m\u001b[43m,\u001b[49m\u001b[43m \u001b[49m\u001b[43mdf\u001b[49m\u001b[38;5;241;43m.\u001b[39;49m\u001b[43mvalues\u001b[49m\u001b[43m)\u001b[49m\n",
      "File \u001b[0;32m<__array_function__ internals>:200\u001b[0m, in \u001b[0;36msavetxt\u001b[0;34m(*args, **kwargs)\u001b[0m\n",
      "File \u001b[0;32m~/anaconda3/lib/python3.9/site-packages/numpy/lib/npyio.py:1610\u001b[0m, in \u001b[0;36msavetxt\u001b[0;34m(fname, X, fmt, delimiter, newline, header, footer, comments, encoding)\u001b[0m\n\u001b[1;32m   1608\u001b[0m             v \u001b[39m=\u001b[39m \u001b[39mformat\u001b[39m \u001b[39m%\u001b[39m \u001b[39mtuple\u001b[39m(row) \u001b[39m+\u001b[39m newline\n\u001b[1;32m   1609\u001b[0m         \u001b[39mexcept\u001b[39;00m \u001b[39mTypeError\u001b[39;00m \u001b[39mas\u001b[39;00m e:\n\u001b[0;32m-> 1610\u001b[0m             \u001b[39mraise\u001b[39;00m \u001b[39mTypeError\u001b[39;00m(\u001b[39m\"\u001b[39m\u001b[39mMismatch between array dtype (\u001b[39m\u001b[39m'\u001b[39m\u001b[39m%s\u001b[39;00m\u001b[39m'\u001b[39m\u001b[39m) and \u001b[39m\u001b[39m\"\u001b[39m\n\u001b[1;32m   1611\u001b[0m                             \u001b[39m\"\u001b[39m\u001b[39mformat specifier (\u001b[39m\u001b[39m'\u001b[39m\u001b[39m%s\u001b[39;00m\u001b[39m'\u001b[39m\u001b[39m)\u001b[39m\u001b[39m\"\u001b[39m\n\u001b[1;32m   1612\u001b[0m                             \u001b[39m%\u001b[39m (\u001b[39mstr\u001b[39m(X\u001b[39m.\u001b[39mdtype), \u001b[39mformat\u001b[39m)) \u001b[39mfrom\u001b[39;00m \u001b[39me\u001b[39;00m\n\u001b[1;32m   1613\u001b[0m         fh\u001b[39m.\u001b[39mwrite(v)\n\u001b[1;32m   1615\u001b[0m \u001b[39mif\u001b[39;00m \u001b[39mlen\u001b[39m(footer) \u001b[39m>\u001b[39m \u001b[39m0\u001b[39m:\n",
      "\u001b[0;31mTypeError\u001b[0m: Mismatch between array dtype ('object') and format specifier ('%.18e %.18e %.18e')"
     ]
    }
   ],
   "source": [
    "np.savetxt(r'pruena.txt', df.values)"
   ]
  },
  {
   "cell_type": "code",
   "execution_count": 2,
   "metadata": {},
   "outputs": [],
   "source": [
    "import grn_networks\n",
    "import network_tools as nt"
   ]
  },
  {
   "cell_type": "code",
   "execution_count": 5,
   "metadata": {},
   "outputs": [],
   "source": [
    "graph = grn_networks.load_network(\"EcoCyc\")"
   ]
  },
  {
   "cell_type": "code",
   "execution_count": 3,
   "metadata": {},
   "outputs": [],
   "source": [
    "graph = grn_networks.load_network_sol(\"EcoCyc\")"
   ]
  },
  {
   "cell_type": "code",
   "execution_count": 6,
   "metadata": {},
   "outputs": [
    {
     "ename": "AttributeError",
     "evalue": "'list' object has no attribute 'decode'",
     "output_type": "error",
     "traceback": [
      "\u001b[0;31m---------------------------------------------------------------------------\u001b[0m",
      "\u001b[0;31mAttributeError\u001b[0m                            Traceback (most recent call last)",
      "Cell \u001b[0;32mIn[6], line 2\u001b[0m\n\u001b[1;32m      1\u001b[0m \u001b[38;5;28;01mimport\u001b[39;00m \u001b[38;5;21;01mnetworkx\u001b[39;00m \u001b[38;5;28;01mas\u001b[39;00m \u001b[38;5;21;01mnx\u001b[39;00m\n\u001b[0;32m----> 2\u001b[0m G \u001b[38;5;241m=\u001b[39m \u001b[43mnx\u001b[49m\u001b[38;5;241;43m.\u001b[39;49m\u001b[43mread_edgelist\u001b[49m\u001b[43m(\u001b[49m\u001b[43mgraph\u001b[49m\u001b[43m,\u001b[49m\u001b[43m \u001b[49m\u001b[43mnodetype\u001b[49m\u001b[38;5;241;43m=\u001b[39;49m\u001b[38;5;28;43mint\u001b[39;49m\u001b[43m,\u001b[49m\u001b[43m \u001b[49m\u001b[43mdata\u001b[49m\u001b[38;5;241;43m=\u001b[39;49m\u001b[43m(\u001b[49m\u001b[43m(\u001b[49m\u001b[38;5;124;43m\"\u001b[39;49m\u001b[38;5;124;43mweight\u001b[39;49m\u001b[38;5;124;43m\"\u001b[39;49m\u001b[43m,\u001b[49m\u001b[43m \u001b[49m\u001b[38;5;28;43mfloat\u001b[39;49m\u001b[43m)\u001b[49m\u001b[43m,\u001b[49m\u001b[43m)\u001b[49m\u001b[43m)\u001b[49m\n\u001b[1;32m      3\u001b[0m \u001b[38;5;28mlist\u001b[39m(G)\n",
      "File \u001b[0;32m~/anaconda3/lib/python3.9/site-packages/networkx/utils/decorators.py:766\u001b[0m, in \u001b[0;36margmap.__call__.<locals>.func\u001b[0;34m(_argmap__wrapper, *args, **kwargs)\u001b[0m\n\u001b[1;32m    765\u001b[0m \u001b[39mdef\u001b[39;00m \u001b[39mfunc\u001b[39m(\u001b[39m*\u001b[39margs, __wrapper\u001b[39m=\u001b[39m\u001b[39mNone\u001b[39;00m, \u001b[39m*\u001b[39m\u001b[39m*\u001b[39mkwargs):\n\u001b[0;32m--> 766\u001b[0m     \u001b[39mreturn\u001b[39;00m argmap\u001b[39m.\u001b[39;49m_lazy_compile(__wrapper)(\u001b[39m*\u001b[39;49margs, \u001b[39m*\u001b[39;49m\u001b[39m*\u001b[39;49mkwargs)\n",
      "File \u001b[0;32m<class 'networkx.utils.decorators.argmap'> compilation 5:5\u001b[0m, in \u001b[0;36margmap_read_edgelist_1\u001b[0;34m(path, comments, delimiter, create_using, nodetype, data, edgetype, encoding)\u001b[0m\n\u001b[1;32m      3\u001b[0m \u001b[39mimport\u001b[39;00m \u001b[39mgzip\u001b[39;00m\n\u001b[1;32m      4\u001b[0m \u001b[39mimport\u001b[39;00m \u001b[39minspect\u001b[39;00m\n\u001b[0;32m----> 5\u001b[0m \u001b[39mimport\u001b[39;00m \u001b[39mitertools\u001b[39;00m\n\u001b[1;32m      6\u001b[0m \u001b[39mimport\u001b[39;00m \u001b[39mre\u001b[39;00m\n\u001b[1;32m      7\u001b[0m \u001b[39mfrom\u001b[39;00m \u001b[39mcollections\u001b[39;00m \u001b[39mimport\u001b[39;00m defaultdict\n",
      "File \u001b[0;32m~/anaconda3/lib/python3.9/site-packages/networkx/readwrite/edgelist.py:376\u001b[0m, in \u001b[0;36mread_edgelist\u001b[0;34m(path, comments, delimiter, create_using, nodetype, data, edgetype, encoding)\u001b[0m\n\u001b[1;32m    310\u001b[0m \u001b[39m\u001b[39m\u001b[39m\"\"\"Read a graph from a list of edges.\u001b[39;00m\n\u001b[1;32m    311\u001b[0m \n\u001b[1;32m    312\u001b[0m \u001b[39mParameters\u001b[39;00m\n\u001b[0;32m   (...)\u001b[0m\n\u001b[1;32m    373\u001b[0m \u001b[39mtypes (e.g. int, float, str, frozenset - or tuples of those, etc.)\u001b[39;00m\n\u001b[1;32m    374\u001b[0m \u001b[39m\"\"\"\u001b[39;00m\n\u001b[1;32m    375\u001b[0m lines \u001b[39m=\u001b[39m (line \u001b[39mif\u001b[39;00m \u001b[39misinstance\u001b[39m(line, \u001b[39mstr\u001b[39m) \u001b[39melse\u001b[39;00m line\u001b[39m.\u001b[39mdecode(encoding) \u001b[39mfor\u001b[39;00m line \u001b[39min\u001b[39;00m path)\n\u001b[0;32m--> 376\u001b[0m \u001b[39mreturn\u001b[39;00m parse_edgelist(\n\u001b[1;32m    377\u001b[0m     lines,\n\u001b[1;32m    378\u001b[0m     comments\u001b[39m=\u001b[39;49mcomments,\n\u001b[1;32m    379\u001b[0m     delimiter\u001b[39m=\u001b[39;49mdelimiter,\n\u001b[1;32m    380\u001b[0m     create_using\u001b[39m=\u001b[39;49mcreate_using,\n\u001b[1;32m    381\u001b[0m     nodetype\u001b[39m=\u001b[39;49mnodetype,\n\u001b[1;32m    382\u001b[0m     data\u001b[39m=\u001b[39;49mdata,\n\u001b[1;32m    383\u001b[0m )\n",
      "File \u001b[0;32m~/anaconda3/lib/python3.9/site-packages/networkx/readwrite/edgelist.py:241\u001b[0m, in \u001b[0;36mparse_edgelist\u001b[0;34m(lines, comments, delimiter, create_using, nodetype, data)\u001b[0m\n\u001b[1;32m    238\u001b[0m \u001b[39mfrom\u001b[39;00m \u001b[39mast\u001b[39;00m \u001b[39mimport\u001b[39;00m literal_eval\n\u001b[1;32m    240\u001b[0m G \u001b[39m=\u001b[39m nx\u001b[39m.\u001b[39mempty_graph(\u001b[39m0\u001b[39m, create_using)\n\u001b[0;32m--> 241\u001b[0m \u001b[39mfor\u001b[39;00m line \u001b[39min\u001b[39;00m lines:\n\u001b[1;32m    242\u001b[0m     \u001b[39mif\u001b[39;00m comments \u001b[39mis\u001b[39;00m \u001b[39mnot\u001b[39;00m \u001b[39mNone\u001b[39;00m:\n\u001b[1;32m    243\u001b[0m         p \u001b[39m=\u001b[39m line\u001b[39m.\u001b[39mfind(comments)\n",
      "File \u001b[0;32m~/anaconda3/lib/python3.9/site-packages/networkx/readwrite/edgelist.py:375\u001b[0m, in \u001b[0;36m<genexpr>\u001b[0;34m(.0)\u001b[0m\n\u001b[1;32m    299\u001b[0m \u001b[39m@open_file\u001b[39m(\u001b[39m0\u001b[39m, mode\u001b[39m=\u001b[39m\u001b[39m\"\u001b[39m\u001b[39mrb\u001b[39m\u001b[39m\"\u001b[39m)\n\u001b[1;32m    300\u001b[0m \u001b[39mdef\u001b[39;00m \u001b[39mread_edgelist\u001b[39m(\n\u001b[1;32m    301\u001b[0m     path,\n\u001b[0;32m   (...)\u001b[0m\n\u001b[1;32m    308\u001b[0m     encoding\u001b[39m=\u001b[39m\u001b[39m\"\u001b[39m\u001b[39mutf-8\u001b[39m\u001b[39m\"\u001b[39m,\n\u001b[1;32m    309\u001b[0m ):\n\u001b[1;32m    310\u001b[0m \u001b[39m    \u001b[39m\u001b[39m\"\"\"Read a graph from a list of edges.\u001b[39;00m\n\u001b[1;32m    311\u001b[0m \n\u001b[1;32m    312\u001b[0m \u001b[39m    Parameters\u001b[39;00m\n\u001b[0;32m   (...)\u001b[0m\n\u001b[1;32m    373\u001b[0m \u001b[39m    types (e.g. int, float, str, frozenset - or tuples of those, etc.)\u001b[39;00m\n\u001b[1;32m    374\u001b[0m \u001b[39m    \"\"\"\u001b[39;00m\n\u001b[0;32m--> 375\u001b[0m     lines \u001b[39m=\u001b[39m (line \u001b[39mif\u001b[39;00m \u001b[39misinstance\u001b[39m(line, \u001b[39mstr\u001b[39m) \u001b[39melse\u001b[39;00m line\u001b[39m.\u001b[39;49mdecode(encoding) \u001b[39mfor\u001b[39;00m line \u001b[39min\u001b[39;00m path)\n\u001b[1;32m    376\u001b[0m     \u001b[39mreturn\u001b[39;00m parse_edgelist(\n\u001b[1;32m    377\u001b[0m         lines,\n\u001b[1;32m    378\u001b[0m         comments\u001b[39m=\u001b[39mcomments,\n\u001b[0;32m   (...)\u001b[0m\n\u001b[1;32m    382\u001b[0m         data\u001b[39m=\u001b[39mdata,\n\u001b[1;32m    383\u001b[0m     )\n",
      "\u001b[0;31mAttributeError\u001b[0m: 'list' object has no attribute 'decode'"
     ]
    }
   ],
   "source": [
    "import networkx as nx\n",
    "G = nx.read_edgelist(graph, nodetype=int, data=((\"weight\", float),))\n",
    "list(G)"
   ]
  },
  {
   "cell_type": "code",
   "execution_count": null,
   "metadata": {},
   "outputs": [],
   "source": []
  },
  {
   "cell_type": "code",
   "execution_count": 6,
   "metadata": {},
   "outputs": [
    {
     "name": "stdout",
     "output_type": "stream",
     "text": [
      "Deleted nodes: 3064 (23 roots, 3041 leaves)\n",
      "Deleted nodes: 95 (2 roots, 93 leaves)\n",
      "Deleted nodes: 14 (0 roots, 14 leaves)\n",
      "Deleted nodes: 2 (0 roots, 2 leaves)\n",
      "Deleted nodes: 1 (0 roots, 1 leaves)\n"
     ]
    }
   ],
   "source": [
    "graph = nt.prune_graph(graph, verbose=1)"
   ]
  },
  {
   "cell_type": "code",
   "execution_count": 7,
   "metadata": {},
   "outputs": [
    {
     "data": {
      "text/plain": [
       "[('srlR', 'srlR'),\n",
       " ('srlR', 'gutM'),\n",
       " ('gutM', 'srlR'),\n",
       " ('gutM', 'gutM'),\n",
       " ('rcsA', 'rcsA'),\n",
       " ('rcsA', 'flhC'),\n",
       " ('rcsA', 'flhD'),\n",
       " ('flhC', 'fliA'),\n",
       " ('flhC', 'fliZ'),\n",
       " ('flhD', 'fliA'),\n",
       " ('flhD', 'fliZ'),\n",
       " ('rcsB', 'flhC'),\n",
       " ('rcsB', 'ydeO'),\n",
       " ('rcsB', 'flhD'),\n",
       " ('rcsB', 'rcsA'),\n",
       " ('rcsB', 'leuO'),\n",
       " ('rcsB', 'gadX'),\n",
       " ('ydeO', 'gadE'),\n",
       " ('ydeO', 'ydeO'),\n",
       " ('leuO', 'bglJ'),\n",
       " ('leuO', 'leuO'),\n",
       " ('gadX', 'rpoS'),\n",
       " ('gadX', 'gadE'),\n",
       " ('gadX', 'gadX'),\n",
       " ('gadX', 'gadW'),\n",
       " ('gadX', 'hns'),\n",
       " ('cspA', 'hns'),\n",
       " ('hns', 'evgA'),\n",
       " ('hns', 'gutM'),\n",
       " ('hns', 'stpA'),\n",
       " ('hns', 'gadE'),\n",
       " ('hns', 'lrp'),\n",
       " ('hns', 'gadX'),\n",
       " ('hns', 'gadW'),\n",
       " ('hns', 'ydeO'),\n",
       " ('hns', 'hdfR'),\n",
       " ('hns', 'flhC'),\n",
       " ('hns', 'bglJ'),\n",
       " ('hns', 'flhD'),\n",
       " ('hns', 'rcsA'),\n",
       " ('hns', 'rcsB'),\n",
       " ('hns', 'mazE'),\n",
       " ('hns', 'mazF'),\n",
       " ('hns', 'fliA'),\n",
       " ('hns', 'fliZ'),\n",
       " ('hns', 'hns'),\n",
       " ('hns', 'leuO'),\n",
       " ('hns', 'srlR'),\n",
       " ('hns', 'adiY'),\n",
       " ('adiY', 'gadX'),\n",
       " ('arcA', 'gadX'),\n",
       " ('arcA', 'rpoS'),\n",
       " ('arcA', 'fnr'),\n",
       " ('rpoS', 'evgA'),\n",
       " ('rpoS', 'rhaS'),\n",
       " ('rpoS', 'rhaR'),\n",
       " ('rpoS', 'gadE'),\n",
       " ('rpoS', 'gadX'),\n",
       " ('rpoS', 'gadW'),\n",
       " ('rpoS', 'hdfR'),\n",
       " ('rpoS', 'ihfA'),\n",
       " ('rpoS', 'rpoH'),\n",
       " ('rpoS', 'oxyR'),\n",
       " ('rpoS', 'ihfB'),\n",
       " ('fnr', 'soxR'),\n",
       " ('fnr', 'gadX'),\n",
       " ('fnr', 'gadW'),\n",
       " ('fnr', 'fnr'),\n",
       " ('fnr', 'soxS'),\n",
       " ('fnr', 'arcA'),\n",
       " ('fis', 'fis'),\n",
       " ('fis', 'gadX'),\n",
       " ('fis', 'crp'),\n",
       " ('fis', 'mazF'),\n",
       " ('fis', 'marA'),\n",
       " ('fis', 'marR'),\n",
       " ('fis', 'mazE'),\n",
       " ('fis', 'hns'),\n",
       " ('crp', 'rhaS'),\n",
       " ('crp', 'rhaR'),\n",
       " ('crp', 'rpoS'),\n",
       " ('crp', 'rpoH'),\n",
       " ('crp', 'fis'),\n",
       " ('crp', 'ompR'),\n",
       " ('crp', 'oxyR'),\n",
       " ('crp', 'flhC'),\n",
       " ('crp', 'galS'),\n",
       " ('crp', 'crp'),\n",
       " ('crp', 'dksA'),\n",
       " ('crp', 'flhD'),\n",
       " ('crp', 'marR'),\n",
       " ('crp', 'fur'),\n",
       " ('crp', 'srlR'),\n",
       " ('crp', 'gutM'),\n",
       " ('crp', 'marA'),\n",
       " ('crp', 'gadE'),\n",
       " ('crp', 'gadX'),\n",
       " ('crp', 'mazE'),\n",
       " ('crp', 'mazF'),\n",
       " ('crp', 'cytR'),\n",
       " ('mazF', 'mazE'),\n",
       " ('mazF', 'mazF'),\n",
       " ('marA', 'rob'),\n",
       " ('marA', 'marR'),\n",
       " ('marA', 'marA'),\n",
       " ('marR', 'marA'),\n",
       " ('marR', 'marR'),\n",
       " ('mazE', 'mazE'),\n",
       " ('mazE', 'mazF'),\n",
       " ('ompR', 'flhC'),\n",
       " ('ompR', 'flhD'),\n",
       " ('oxyR', 'oxyR'),\n",
       " ('oxyR', 'fur'),\n",
       " ('fur', 'flhC'),\n",
       " ('fur', 'flhD'),\n",
       " ('fur', 'rpoS'),\n",
       " ('fur', 'fnr'),\n",
       " ('fur', 'fur'),\n",
       " ('fur', 'soxR'),\n",
       " ('fur', 'soxS'),\n",
       " ('qseB', 'qseB'),\n",
       " ('qseB', 'flhD'),\n",
       " ('qseB', 'flhC'),\n",
       " ('soxR', 'soxR'),\n",
       " ('soxR', 'soxS'),\n",
       " ('gadW', 'gadE'),\n",
       " ('gadW', 'gadX'),\n",
       " ('gadW', 'gadW'),\n",
       " ('soxS', 'marA'),\n",
       " ('soxS', 'rob'),\n",
       " ('soxS', 'marR'),\n",
       " ('soxS', 'soxS'),\n",
       " ('soxS', 'fur'),\n",
       " ('gadE', 'rcsA'),\n",
       " ('gadE', 'gadE'),\n",
       " ('gadE', 'lrp'),\n",
       " ('gadE', 'gadX'),\n",
       " ('gadE', 'gadW'),\n",
       " ('lrp', 'lrp'),\n",
       " ('lrp', 'stpA'),\n",
       " ('stpA', 'stpA'),\n",
       " ('stpA', 'leuO'),\n",
       " ('relB', 'relB'),\n",
       " ('relB', 'relE'),\n",
       " ('relE', 'relB'),\n",
       " ('relE', 'relE'),\n",
       " ('rhaS', 'rhaS'),\n",
       " ('rhaS', 'rhaR'),\n",
       " ('rhaR', 'rhaS'),\n",
       " ('rhaR', 'rhaR'),\n",
       " ('evgA', 'evgA'),\n",
       " ('evgA', 'gadE'),\n",
       " ('evgA', 'ydeO'),\n",
       " ('rob', 'marA'),\n",
       " ('rob', 'rob'),\n",
       " ('rob', 'marR'),\n",
       " ('hdfR', 'flhC'),\n",
       " ('hdfR', 'flhD'),\n",
       " ('torR', 'gadX'),\n",
       " ('torR', 'torR'),\n",
       " ('cytR', 'rpoH'),\n",
       " ('cytR', 'cytR'),\n",
       " ('rpoH', 'rpoD'),\n",
       " ('rpoH', 'phoP'),\n",
       " ('rpoH', 'ydeO'),\n",
       " ('rpoH', 'cra'),\n",
       " ('argP', 'argP'),\n",
       " ('argP', 'dnaA'),\n",
       " ('dnaA', 'dnaA'),\n",
       " ('dnaA', 'rpoH'),\n",
       " ('yoeB', 'yefM'),\n",
       " ('yoeB', 'yoeB'),\n",
       " ('yefM', 'yefM'),\n",
       " ('yefM', 'yoeB'),\n",
       " ('fliA', 'hdfR'),\n",
       " ('fliA', 'fliZ'),\n",
       " ('fliA', 'fliA'),\n",
       " ('fliA', 'flhC'),\n",
       " ('fliZ', 'flhD'),\n",
       " ('fliZ', 'gadE'),\n",
       " ('fliZ', 'flhC'),\n",
       " ('bglJ', 'leuO'),\n",
       " ('dksA', 'fis'),\n",
       " ('dksA', 'dksA'),\n",
       " ('dksA', 'rpoD'),\n",
       " ('dksA', 'ihfA'),\n",
       " ('dksA', 'ihfB'),\n",
       " ('rpoD', 'rcsA'),\n",
       " ('rpoD', 'rcsB'),\n",
       " ('rpoD', 'cspA'),\n",
       " ('rpoD', 'flhC'),\n",
       " ('rpoD', 'arcA'),\n",
       " ('rpoD', 'evgA'),\n",
       " ('rpoD', 'fis'),\n",
       " ('rpoD', 'ompR'),\n",
       " ('rpoD', 'srlR'),\n",
       " ('rpoD', 'oxyR'),\n",
       " ('rpoD', 'qseB'),\n",
       " ('rpoD', 'rutR'),\n",
       " ('rpoD', 'yafQ'),\n",
       " ('rpoD', 'fnr'),\n",
       " ('rpoD', 'gadE'),\n",
       " ('rpoD', 'gadX'),\n",
       " ('rpoD', 'stpA'),\n",
       " ('rpoD', 'relB'),\n",
       " ('rpoD', 'relE'),\n",
       " ('rpoD', 'rhaS'),\n",
       " ('rpoD', 'rhaR'),\n",
       " ('rpoD', 'lrp'),\n",
       " ('rpoD', 'torR'),\n",
       " ('rpoD', 'lexA'),\n",
       " ('rpoD', 'cytR'),\n",
       " ('rpoD', 'yoeB'),\n",
       " ('rpoD', 'leuO'),\n",
       " ('rpoD', 'dksA'),\n",
       " ('rpoD', 'marA'),\n",
       " ('rpoD', 'ecpR'),\n",
       " ('rpoD', 'yefM'),\n",
       " ('rpoD', 'mqsR'),\n",
       " ('rpoD', 'mqsA'),\n",
       " ('rpoD', 'soxR'),\n",
       " ('rpoD', 'soxS'),\n",
       " ('rpoD', 'cpxR'),\n",
       " ('rpoD', 'dinJ'),\n",
       " ('rpoD', 'galR'),\n",
       " ('rpoD', 'galS'),\n",
       " ('rpoD', 'hipA'),\n",
       " ('rpoD', 'hipB'),\n",
       " ('rpoD', 'crp'),\n",
       " ('rpoD', 'fur'),\n",
       " ('rpoD', 'marR'),\n",
       " ('rpoD', 'rpoS'),\n",
       " ('rpoD', 'rpoE'),\n",
       " ('rpoD', 'rpoD'),\n",
       " ('rpoD', 'rpoH'),\n",
       " ('rpoD', 'rpoN'),\n",
       " ('rpoD', 'phoB'),\n",
       " ('rpoD', 'sdiA'),\n",
       " ('rpoD', 'ydeO'),\n",
       " ('rpoD', 'flhD'),\n",
       " ('rpoD', 'gutM'),\n",
       " ('rpoD', 'bglJ'),\n",
       " ('rpoD', 'mazE'),\n",
       " ('rpoD', 'mazF'),\n",
       " ('rpoD', 'fliZ'),\n",
       " ('rpoD', 'fliA'),\n",
       " ('rpoD', 'hns'),\n",
       " ('ihfA', 'fis'),\n",
       " ('ihfA', 'ompR'),\n",
       " ('ihfA', 'flhC'),\n",
       " ('ihfA', 'flhD'),\n",
       " ('ihfA', 'hipA'),\n",
       " ('ihfA', 'rpoH'),\n",
       " ('ihfA', 'fnr'),\n",
       " ('ihfA', 'ihfA'),\n",
       " ('ihfA', 'ihfB'),\n",
       " ('ihfA', 'hipB'),\n",
       " ('ihfB', 'fis'),\n",
       " ('ihfB', 'ompR'),\n",
       " ('ihfB', 'flhC'),\n",
       " ('ihfB', 'flhD'),\n",
       " ('ihfB', 'hipA'),\n",
       " ('ihfB', 'rpoH'),\n",
       " ('ihfB', 'fnr'),\n",
       " ('ihfB', 'ihfA'),\n",
       " ('ihfB', 'ihfB'),\n",
       " ('ihfB', 'hipB'),\n",
       " ('ecpR', 'fliZ'),\n",
       " ('ecpR', 'ecpR'),\n",
       " ('ecpR', 'flhC'),\n",
       " ('ecpR', 'flhD'),\n",
       " ('ecpR', 'fliA'),\n",
       " ('mqsR', 'mqsR'),\n",
       " ('mqsR', 'mqsA'),\n",
       " ('mqsA', 'rpoS'),\n",
       " ('mqsA', 'mqsR'),\n",
       " ('mqsA', 'mqsA'),\n",
       " ('cpxR', 'cpxR'),\n",
       " ('cpxR', 'rpoE'),\n",
       " ('cpxR', 'rpoH'),\n",
       " ('rpoE', 'rpoE'),\n",
       " ('rpoE', 'rpoD'),\n",
       " ('rpoE', 'rpoH'),\n",
       " ('rpoE', 'rpoN'),\n",
       " ('rpoE', 'ecpR'),\n",
       " ('rpoE', 'rutR'),\n",
       " ('dinJ', 'dinJ'),\n",
       " ('dinJ', 'yafQ'),\n",
       " ('yafQ', 'dinJ'),\n",
       " ('yafQ', 'yafQ'),\n",
       " ('galR', 'galR'),\n",
       " ('galR', 'galS'),\n",
       " ('galS', 'galR'),\n",
       " ('galS', 'galS'),\n",
       " ('hipA', 'hipA'),\n",
       " ('hipA', 'hipB'),\n",
       " ('hipB', 'hipA'),\n",
       " ('hipB', 'hipB'),\n",
       " ('cra', 'marR'),\n",
       " ('cra', 'marA'),\n",
       " ('rutR', 'rutR'),\n",
       " ('rutR', 'gadX'),\n",
       " ('rutR', 'gadW'),\n",
       " ('lexA', 'dinJ'),\n",
       " ('lexA', 'lexA'),\n",
       " ('lexA', 'rpoD'),\n",
       " ('lexA', 'yafQ'),\n",
       " ('rpoN', 'rpoH'),\n",
       " ('rpoN', 'flhC'),\n",
       " ('rpoN', 'flhD'),\n",
       " ('phoB', 'phoB'),\n",
       " ('phoB', 'argP'),\n",
       " ('sdiA', 'gadW'),\n",
       " ('phoP', 'ydeO'),\n",
       " ('phoP', 'phoP'),\n",
       " ('phoP', 'gadE'),\n",
       " ('phoP', 'gadW')]"
      ]
     },
     "execution_count": 7,
     "metadata": {},
     "output_type": "execute_result"
    }
   ],
   "source": [
    "list(graph.edges)"
   ]
  },
  {
   "cell_type": "code",
   "execution_count": 28,
   "metadata": {},
   "outputs": [],
   "source": [
    "import networkx as nx\n",
    "dict= nx.get_edge_attributes(graph,'mode')"
   ]
  },
  {
   "cell_type": "code",
   "execution_count": 31,
   "metadata": {},
   "outputs": [],
   "source": [
    "for u in graph.edges():\n",
    "    if dict[u] == \"+\" : \n",
    "        dict[u] = 1.0\n",
    "    if dict[u] == \"-\" : \n",
    "        dict[u] = -1.0"
   ]
  },
  {
   "cell_type": "code",
   "execution_count": null,
   "metadata": {},
   "outputs": [],
   "source": []
  },
  {
   "cell_type": "code",
   "execution_count": 10,
   "metadata": {},
   "outputs": [
    {
     "data": {
      "text/plain": [
       "OutEdgeDataView([('srlR', 'srlR', {'mode': '-'}), ('srlR', 'gutM', {'mode': '-'}), ('gutM', 'srlR', {'mode': '+'}), ('gutM', 'gutM', {'mode': '+'}), ('rcsA', 'rcsA', {'mode': '+'}), ('rcsA', 'flhC', {'mode': '-'}), ('rcsA', 'flhD', {'mode': '-'}), ('flhC', 'fliA', {'mode': '+'}), ('flhC', 'fliZ', {'mode': '+'}), ('flhD', 'fliA', {'mode': '+'}), ('flhD', 'fliZ', {'mode': '+'}), ('rcsB', 'flhC', {'mode': '-'}), ('rcsB', 'ydeO', {'mode': '+'}), ('rcsB', 'flhD', {'mode': '-'}), ('rcsB', 'rcsA', {'mode': '+'}), ('rcsB', 'leuO', {'mode': '+'}), ('rcsB', 'gadX', {'mode': '+'}), ('ydeO', 'gadE', {'mode': '+'}), ('ydeO', 'ydeO', {'mode': '-'}), ('leuO', 'bglJ', {'mode': '+'}), ('leuO', 'leuO', {'mode': '+'}), ('gadX', 'rpoS', {'mode': '+'}), ('gadX', 'gadE', {'mode': '+'}), ('gadX', 'gadX', {'mode': '+'}), ('gadX', 'gadW', {'mode': '+'}), ('gadX', 'hns', {'mode': '+'}), ('cspA', 'hns', {'mode': '+'}), ('hns', 'evgA', {'mode': '-'}), ('hns', 'gutM', {'mode': '+'}), ('hns', 'stpA', {'mode': '-'}), ('hns', 'gadE', {'mode': '-'}), ('hns', 'lrp', {'mode': '-'}), ('hns', 'gadX', {'mode': '-'}), ('hns', 'gadW', {'mode': '-'}), ('hns', 'ydeO', {'mode': '-'}), ('hns', 'hdfR', {'mode': '-'}), ('hns', 'flhC', {'mode': '+'}), ('hns', 'bglJ', {'mode': '-'}), ('hns', 'flhD', {'mode': '+'}), ('hns', 'rcsA', {'mode': '-'}), ('hns', 'rcsB', {'mode': '-'}), ('hns', 'mazE', {'mode': '+'}), ('hns', 'mazF', {'mode': '+'}), ('hns', 'fliA', {'mode': '+'}), ('hns', 'fliZ', {'mode': '+'}), ('hns', 'hns', {'mode': '-'}), ('hns', 'leuO', {'mode': '-'}), ('hns', 'srlR', {'mode': '+'}), ('hns', 'adiY', {'mode': '-'}), ('adiY', 'gadX', {'mode': '+'}), ('arcA', 'gadX', {'mode': '+'}), ('arcA', 'rpoS', {'mode': '-'}), ('arcA', 'fnr', {'mode': '-'}), ('rpoS', 'evgA', {'mode': '+'}), ('rpoS', 'rhaS', {'mode': '+'}), ('rpoS', 'rhaR', {'mode': '+'}), ('rpoS', 'gadE', {'mode': '+'}), ('rpoS', 'gadX', {'mode': '+'}), ('rpoS', 'gadW', {'mode': '+'}), ('rpoS', 'hdfR', {'mode': '+'}), ('rpoS', 'ihfA', {'mode': '+'}), ('rpoS', 'rpoH', {'mode': '+'}), ('rpoS', 'oxyR', {'mode': '+'}), ('rpoS', 'ihfB', {'mode': '+'}), ('fnr', 'soxR', {'mode': '-'}), ('fnr', 'gadX', {'mode': '-'}), ('fnr', 'gadW', {'mode': '-'}), ('fnr', 'fnr', {'mode': '-'}), ('fnr', 'soxS', {'mode': '-'}), ('fnr', 'arcA', {'mode': '-'}), ('fis', 'fis', {'mode': '-'}), ('fis', 'gadX', {'mode': '-'}), ('fis', 'crp', {'mode': '-'}), ('fis', 'mazF', {'mode': '+'}), ('fis', 'marA', {'mode': '+'}), ('fis', 'marR', {'mode': '+'}), ('fis', 'mazE', {'mode': '+'}), ('fis', 'hns', {'mode': '+'}), ('crp', 'rhaS', {'mode': '+'}), ('crp', 'rhaR', {'mode': '+'}), ('crp', 'rpoS', {'mode': '?'}), ('crp', 'rpoH', {'mode': '-'}), ('crp', 'fis', {'mode': '+'}), ('crp', 'ompR', {'mode': '-'}), ('crp', 'oxyR', {'mode': '+'}), ('crp', 'flhC', {'mode': '+'}), ('crp', 'galS', {'mode': '+'}), ('crp', 'crp', {'mode': '+'}), ('crp', 'dksA', {'mode': '+'}), ('crp', 'flhD', {'mode': '+'}), ('crp', 'marR', {'mode': '+'}), ('crp', 'fur', {'mode': '+'}), ('crp', 'srlR', {'mode': '+'}), ('crp', 'gutM', {'mode': '+'}), ('crp', 'marA', {'mode': '+'}), ('crp', 'gadE', {'mode': '-'}), ('crp', 'gadX', {'mode': '-'}), ('crp', 'mazE', {'mode': '+'}), ('crp', 'mazF', {'mode': '+'}), ('crp', 'cytR', {'mode': '+'}), ('mazF', 'mazE', {'mode': '-'}), ('mazF', 'mazF', {'mode': '-'}), ('marA', 'rob', {'mode': '-'}), ('marA', 'marR', {'mode': '+'}), ('marA', 'marA', {'mode': '+'}), ('marR', 'marA', {'mode': '-'}), ('marR', 'marR', {'mode': '-'}), ('mazE', 'mazE', {'mode': '-'}), ('mazE', 'mazF', {'mode': '-'}), ('ompR', 'flhC', {'mode': '-'}), ('ompR', 'flhD', {'mode': '-'}), ('oxyR', 'oxyR', {'mode': '-'}), ('oxyR', 'fur', {'mode': '+'}), ('fur', 'flhC', {'mode': '-'}), ('fur', 'flhD', {'mode': '-'}), ('fur', 'rpoS', {'mode': '-'}), ('fur', 'fnr', {'mode': '-'}), ('fur', 'fur', {'mode': '-'}), ('fur', 'soxR', {'mode': '-'}), ('fur', 'soxS', {'mode': '-'}), ('qseB', 'qseB', {'mode': '+'}), ('qseB', 'flhD', {'mode': '+'}), ('qseB', 'flhC', {'mode': '+'}), ('soxR', 'soxR', {'mode': '-'}), ('soxR', 'soxS', {'mode': '+'}), ('gadW', 'gadE', {'mode': '+'}), ('gadW', 'gadX', {'mode': '-'}), ('gadW', 'gadW', {'mode': '-'}), ('soxS', 'marA', {'mode': '+'}), ('soxS', 'rob', {'mode': '-'}), ('soxS', 'marR', {'mode': '+'}), ('soxS', 'soxS', {'mode': '-'}), ('soxS', 'fur', {'mode': '+'}), ('gadE', 'rcsA', {'mode': '+'}), ('gadE', 'gadE', {'mode': '+'}), ('gadE', 'lrp', {'mode': '+'}), ('gadE', 'gadX', {'mode': '+'}), ('gadE', 'gadW', {'mode': '+'}), ('lrp', 'lrp', {'mode': '-'}), ('lrp', 'stpA', {'mode': '+'}), ('stpA', 'stpA', {'mode': '-'}), ('stpA', 'leuO', {'mode': '-'}), ('relB', 'relB', {'mode': '-'}), ('relB', 'relE', {'mode': '-'}), ('relE', 'relB', {'mode': '-'}), ('relE', 'relE', {'mode': '-'}), ('rhaS', 'rhaS', {'mode': '+'}), ('rhaS', 'rhaR', {'mode': '+'}), ('rhaR', 'rhaS', {'mode': '+'}), ('rhaR', 'rhaR', {'mode': '+'}), ('evgA', 'evgA', {'mode': '+'}), ('evgA', 'gadE', {'mode': '+'}), ('evgA', 'ydeO', {'mode': '+'}), ('rob', 'marA', {'mode': '+'}), ('rob', 'rob', {'mode': '-'}), ('rob', 'marR', {'mode': '+'}), ('hdfR', 'flhC', {'mode': '-'}), ('hdfR', 'flhD', {'mode': '-'}), ('torR', 'gadX', {'mode': '-'}), ('torR', 'torR', {'mode': '-'}), ('cytR', 'rpoH', {'mode': '-'}), ('cytR', 'cytR', {'mode': '-'}), ('rpoH', 'rpoD', {'mode': '+'}), ('rpoH', 'phoP', {'mode': '+'}), ('rpoH', 'ydeO', {'mode': '+'}), ('rpoH', 'cra', {'mode': '+'}), ('argP', 'argP', {'mode': '-'}), ('argP', 'dnaA', {'mode': '+'}), ('dnaA', 'dnaA', {'mode': '-'}), ('dnaA', 'rpoH', {'mode': '-'}), ('yoeB', 'yefM', {'mode': '-'}), ('yoeB', 'yoeB', {'mode': '-'}), ('yefM', 'yefM', {'mode': '-'}), ('yefM', 'yoeB', {'mode': '-'}), ('fliA', 'hdfR', {'mode': '+'}), ('fliA', 'fliZ', {'mode': '+'}), ('fliA', 'fliA', {'mode': '+'}), ('fliA', 'flhC', {'mode': '+'}), ('fliZ', 'flhD', {'mode': '-'}), ('fliZ', 'gadE', {'mode': '-'}), ('fliZ', 'flhC', {'mode': '-'}), ('bglJ', 'leuO', {'mode': '+'}), ('dksA', 'fis', {'mode': '-'}), ('dksA', 'dksA', {'mode': '-'}), ('dksA', 'rpoD', {'mode': '-'}), ('dksA', 'ihfA', {'mode': '-'}), ('dksA', 'ihfB', {'mode': '-'}), ('rpoD', 'rcsA', {'mode': '+'}), ('rpoD', 'rcsB', {'mode': '+'}), ('rpoD', 'cspA', {'mode': '+'}), ('rpoD', 'flhC', {'mode': '+'}), ('rpoD', 'arcA', {'mode': '+'}), ('rpoD', 'evgA', {'mode': '+'}), ('rpoD', 'fis', {'mode': '+'}), ('rpoD', 'ompR', {'mode': '+'}), ('rpoD', 'srlR', {'mode': '+'}), ('rpoD', 'oxyR', {'mode': '+'}), ('rpoD', 'qseB', {'mode': '+'}), ('rpoD', 'rutR', {'mode': '+'}), ('rpoD', 'yafQ', {'mode': '+'}), ('rpoD', 'fnr', {'mode': '+'}), ('rpoD', 'gadE', {'mode': '+'}), ('rpoD', 'gadX', {'mode': '+'}), ('rpoD', 'stpA', {'mode': '+'}), ('rpoD', 'relB', {'mode': '+'}), ('rpoD', 'relE', {'mode': '+'}), ('rpoD', 'rhaS', {'mode': '+'}), ('rpoD', 'rhaR', {'mode': '+'}), ('rpoD', 'lrp', {'mode': '+'}), ('rpoD', 'torR', {'mode': '+'}), ('rpoD', 'lexA', {'mode': '+'}), ('rpoD', 'cytR', {'mode': '+'}), ('rpoD', 'yoeB', {'mode': '+'}), ('rpoD', 'leuO', {'mode': '+'}), ('rpoD', 'dksA', {'mode': '+'}), ('rpoD', 'marA', {'mode': '+'}), ('rpoD', 'ecpR', {'mode': '+'}), ('rpoD', 'yefM', {'mode': '+'}), ('rpoD', 'mqsR', {'mode': '+'}), ('rpoD', 'mqsA', {'mode': '+'}), ('rpoD', 'soxR', {'mode': '+'}), ('rpoD', 'soxS', {'mode': '+'}), ('rpoD', 'cpxR', {'mode': '+'}), ('rpoD', 'dinJ', {'mode': '+'}), ('rpoD', 'galR', {'mode': '+'}), ('rpoD', 'galS', {'mode': '+'}), ('rpoD', 'hipA', {'mode': '+'}), ('rpoD', 'hipB', {'mode': '+'}), ('rpoD', 'crp', {'mode': '+'}), ('rpoD', 'fur', {'mode': '+'}), ('rpoD', 'marR', {'mode': '+'}), ('rpoD', 'rpoS', {'mode': '+'}), ('rpoD', 'rpoE', {'mode': '+'}), ('rpoD', 'rpoD', {'mode': '+'}), ('rpoD', 'rpoH', {'mode': '+'}), ('rpoD', 'rpoN', {'mode': '+'}), ('rpoD', 'phoB', {'mode': '+'}), ('rpoD', 'sdiA', {'mode': '+'}), ('rpoD', 'ydeO', {'mode': '+'}), ('rpoD', 'flhD', {'mode': '+'}), ('rpoD', 'gutM', {'mode': '+'}), ('rpoD', 'bglJ', {'mode': '+'}), ('rpoD', 'mazE', {'mode': '+'}), ('rpoD', 'mazF', {'mode': '+'}), ('rpoD', 'fliZ', {'mode': '+'}), ('rpoD', 'fliA', {'mode': '+'}), ('rpoD', 'hns', {'mode': '+'}), ('ihfA', 'fis', {'mode': '+'}), ('ihfA', 'ompR', {'mode': '-'}), ('ihfA', 'flhC', {'mode': '-'}), ('ihfA', 'flhD', {'mode': '-'}), ('ihfA', 'hipA', {'mode': '+'}), ('ihfA', 'rpoH', {'mode': '+'}), ('ihfA', 'fnr', {'mode': '+'}), ('ihfA', 'ihfA', {'mode': '-'}), ('ihfA', 'ihfB', {'mode': '-'}), ('ihfA', 'hipB', {'mode': '+'}), ('ihfB', 'fis', {'mode': '+'}), ('ihfB', 'ompR', {'mode': '-'}), ('ihfB', 'flhC', {'mode': '-'}), ('ihfB', 'flhD', {'mode': '-'}), ('ihfB', 'hipA', {'mode': '+'}), ('ihfB', 'rpoH', {'mode': '+'}), ('ihfB', 'fnr', {'mode': '+'}), ('ihfB', 'ihfA', {'mode': '-'}), ('ihfB', 'ihfB', {'mode': '-'}), ('ihfB', 'hipB', {'mode': '+'}), ('ecpR', 'fliZ', {'mode': '-'}), ('ecpR', 'ecpR', {'mode': '+'}), ('ecpR', 'flhC', {'mode': '-'}), ('ecpR', 'flhD', {'mode': '-'}), ('ecpR', 'fliA', {'mode': '-'}), ('mqsR', 'mqsR', {'mode': '-'}), ('mqsR', 'mqsA', {'mode': '-'}), ('mqsA', 'rpoS', {'mode': '-'}), ('mqsA', 'mqsR', {'mode': '-'}), ('mqsA', 'mqsA', {'mode': '-'}), ('cpxR', 'cpxR', {'mode': '+'}), ('cpxR', 'rpoE', {'mode': '-'}), ('cpxR', 'rpoH', {'mode': '+'}), ('rpoE', 'rpoE', {'mode': '+'}), ('rpoE', 'rpoD', {'mode': '+'}), ('rpoE', 'rpoH', {'mode': '+'}), ('rpoE', 'rpoN', {'mode': '+'}), ('rpoE', 'ecpR', {'mode': '+'}), ('rpoE', 'rutR', {'mode': '+'}), ('dinJ', 'dinJ', {'mode': '-'}), ('dinJ', 'yafQ', {'mode': '-'}), ('yafQ', 'dinJ', {'mode': '-'}), ('yafQ', 'yafQ', {'mode': '-'}), ('galR', 'galR', {'mode': '-'}), ('galR', 'galS', {'mode': '-'}), ('galS', 'galR', {'mode': '-'}), ('galS', 'galS', {'mode': '-'}), ('hipA', 'hipA', {'mode': '-'}), ('hipA', 'hipB', {'mode': '-'}), ('hipB', 'hipA', {'mode': '-'}), ('hipB', 'hipB', {'mode': '-'}), ('cra', 'marR', {'mode': '-'}), ('cra', 'marA', {'mode': '-'}), ('rutR', 'rutR', {'mode': '-'}), ('rutR', 'gadX', {'mode': '-'}), ('rutR', 'gadW', {'mode': '-'}), ('lexA', 'dinJ', {'mode': '-'}), ('lexA', 'lexA', {'mode': '-'}), ('lexA', 'rpoD', {'mode': '-'}), ('lexA', 'yafQ', {'mode': '-'}), ('rpoN', 'rpoH', {'mode': '+'}), ('rpoN', 'flhC', {'mode': '+'}), ('rpoN', 'flhD', {'mode': '+'}), ('phoB', 'phoB', {'mode': '+'}), ('phoB', 'argP', {'mode': '+'}), ('sdiA', 'gadW', {'mode': '+'}), ('phoP', 'ydeO', {'mode': '-'}), ('phoP', 'phoP', {'mode': '-'}), ('phoP', 'gadE', {'mode': '+'}), ('phoP', 'gadW', {'mode': '+'})])"
      ]
     },
     "execution_count": 10,
     "metadata": {},
     "output_type": "execute_result"
    }
   ],
   "source": [
    "graph.edges(data=True)"
   ]
  },
  {
   "cell_type": "code",
   "execution_count": 24,
   "metadata": {},
   "outputs": [],
   "source": [
    "dict = nx.get_edge_attributes(graph,'mode')"
   ]
  },
  {
   "cell_type": "code",
   "execution_count": 25,
   "metadata": {},
   "outputs": [
    {
     "data": {
      "text/plain": [
       "'-'"
      ]
     },
     "execution_count": 25,
     "metadata": {},
     "output_type": "execute_result"
    }
   ],
   "source": [
    "dict[('srlR', 'srlR')]"
   ]
  },
  {
   "cell_type": "code",
   "execution_count": null,
   "metadata": {},
   "outputs": [],
   "source": [
    "dict[()]"
   ]
  },
  {
   "cell_type": "code",
   "execution_count": 19,
   "metadata": {},
   "outputs": [],
   "source": [
    "graph['srlR']['srlR'][\"weight\"] = 1"
   ]
  },
  {
   "cell_type": "code",
   "execution_count": 27,
   "metadata": {},
   "outputs": [
    {
     "data": {
      "text/plain": [
       "OutEdgeView([('srlR', 'srlR'), ('srlR', 'gutM'), ('gutM', 'srlR'), ('gutM', 'gutM'), ('rcsA', 'rcsA'), ('rcsA', 'flhC'), ('rcsA', 'flhD'), ('flhC', 'fliA'), ('flhC', 'fliZ'), ('flhD', 'fliA'), ('flhD', 'fliZ'), ('rcsB', 'flhC'), ('rcsB', 'ydeO'), ('rcsB', 'flhD'), ('rcsB', 'rcsA'), ('rcsB', 'leuO'), ('rcsB', 'gadX'), ('ydeO', 'gadE'), ('ydeO', 'ydeO'), ('leuO', 'bglJ'), ('leuO', 'leuO'), ('gadX', 'rpoS'), ('gadX', 'gadE'), ('gadX', 'gadX'), ('gadX', 'gadW'), ('gadX', 'hns'), ('cspA', 'hns'), ('hns', 'evgA'), ('hns', 'gutM'), ('hns', 'stpA'), ('hns', 'gadE'), ('hns', 'lrp'), ('hns', 'gadX'), ('hns', 'gadW'), ('hns', 'ydeO'), ('hns', 'hdfR'), ('hns', 'flhC'), ('hns', 'bglJ'), ('hns', 'flhD'), ('hns', 'rcsA'), ('hns', 'rcsB'), ('hns', 'mazE'), ('hns', 'mazF'), ('hns', 'fliA'), ('hns', 'fliZ'), ('hns', 'hns'), ('hns', 'leuO'), ('hns', 'srlR'), ('hns', 'adiY'), ('adiY', 'gadX'), ('arcA', 'gadX'), ('arcA', 'rpoS'), ('arcA', 'fnr'), ('rpoS', 'evgA'), ('rpoS', 'rhaS'), ('rpoS', 'rhaR'), ('rpoS', 'gadE'), ('rpoS', 'gadX'), ('rpoS', 'gadW'), ('rpoS', 'hdfR'), ('rpoS', 'ihfA'), ('rpoS', 'rpoH'), ('rpoS', 'oxyR'), ('rpoS', 'ihfB'), ('fnr', 'soxR'), ('fnr', 'gadX'), ('fnr', 'gadW'), ('fnr', 'fnr'), ('fnr', 'soxS'), ('fnr', 'arcA'), ('fis', 'fis'), ('fis', 'gadX'), ('fis', 'crp'), ('fis', 'mazF'), ('fis', 'marA'), ('fis', 'marR'), ('fis', 'mazE'), ('fis', 'hns'), ('crp', 'rhaS'), ('crp', 'rhaR'), ('crp', 'rpoS'), ('crp', 'rpoH'), ('crp', 'fis'), ('crp', 'ompR'), ('crp', 'oxyR'), ('crp', 'flhC'), ('crp', 'galS'), ('crp', 'crp'), ('crp', 'dksA'), ('crp', 'flhD'), ('crp', 'marR'), ('crp', 'fur'), ('crp', 'srlR'), ('crp', 'gutM'), ('crp', 'marA'), ('crp', 'gadE'), ('crp', 'gadX'), ('crp', 'mazE'), ('crp', 'mazF'), ('crp', 'cytR'), ('mazF', 'mazE'), ('mazF', 'mazF'), ('marA', 'rob'), ('marA', 'marR'), ('marA', 'marA'), ('marR', 'marA'), ('marR', 'marR'), ('mazE', 'mazE'), ('mazE', 'mazF'), ('ompR', 'flhC'), ('ompR', 'flhD'), ('oxyR', 'oxyR'), ('oxyR', 'fur'), ('fur', 'flhC'), ('fur', 'flhD'), ('fur', 'rpoS'), ('fur', 'fnr'), ('fur', 'fur'), ('fur', 'soxR'), ('fur', 'soxS'), ('qseB', 'qseB'), ('qseB', 'flhD'), ('qseB', 'flhC'), ('soxR', 'soxR'), ('soxR', 'soxS'), ('gadW', 'gadE'), ('gadW', 'gadX'), ('gadW', 'gadW'), ('soxS', 'marA'), ('soxS', 'rob'), ('soxS', 'marR'), ('soxS', 'soxS'), ('soxS', 'fur'), ('gadE', 'rcsA'), ('gadE', 'gadE'), ('gadE', 'lrp'), ('gadE', 'gadX'), ('gadE', 'gadW'), ('lrp', 'lrp'), ('lrp', 'stpA'), ('stpA', 'stpA'), ('stpA', 'leuO'), ('relB', 'relB'), ('relB', 'relE'), ('relE', 'relB'), ('relE', 'relE'), ('rhaS', 'rhaS'), ('rhaS', 'rhaR'), ('rhaR', 'rhaS'), ('rhaR', 'rhaR'), ('evgA', 'evgA'), ('evgA', 'gadE'), ('evgA', 'ydeO'), ('rob', 'marA'), ('rob', 'rob'), ('rob', 'marR'), ('hdfR', 'flhC'), ('hdfR', 'flhD'), ('torR', 'gadX'), ('torR', 'torR'), ('cytR', 'rpoH'), ('cytR', 'cytR'), ('rpoH', 'rpoD'), ('rpoH', 'phoP'), ('rpoH', 'ydeO'), ('rpoH', 'cra'), ('argP', 'argP'), ('argP', 'dnaA'), ('dnaA', 'dnaA'), ('dnaA', 'rpoH'), ('yoeB', 'yefM'), ('yoeB', 'yoeB'), ('yefM', 'yefM'), ('yefM', 'yoeB'), ('fliA', 'hdfR'), ('fliA', 'fliZ'), ('fliA', 'fliA'), ('fliA', 'flhC'), ('fliZ', 'flhD'), ('fliZ', 'gadE'), ('fliZ', 'flhC'), ('bglJ', 'leuO'), ('dksA', 'fis'), ('dksA', 'dksA'), ('dksA', 'rpoD'), ('dksA', 'ihfA'), ('dksA', 'ihfB'), ('rpoD', 'rcsA'), ('rpoD', 'rcsB'), ('rpoD', 'cspA'), ('rpoD', 'flhC'), ('rpoD', 'arcA'), ('rpoD', 'evgA'), ('rpoD', 'fis'), ('rpoD', 'ompR'), ('rpoD', 'srlR'), ('rpoD', 'oxyR'), ('rpoD', 'qseB'), ('rpoD', 'rutR'), ('rpoD', 'yafQ'), ('rpoD', 'fnr'), ('rpoD', 'gadE'), ('rpoD', 'gadX'), ('rpoD', 'stpA'), ('rpoD', 'relB'), ('rpoD', 'relE'), ('rpoD', 'rhaS'), ('rpoD', 'rhaR'), ('rpoD', 'lrp'), ('rpoD', 'torR'), ('rpoD', 'lexA'), ('rpoD', 'cytR'), ('rpoD', 'yoeB'), ('rpoD', 'leuO'), ('rpoD', 'dksA'), ('rpoD', 'marA'), ('rpoD', 'ecpR'), ('rpoD', 'yefM'), ('rpoD', 'mqsR'), ('rpoD', 'mqsA'), ('rpoD', 'soxR'), ('rpoD', 'soxS'), ('rpoD', 'cpxR'), ('rpoD', 'dinJ'), ('rpoD', 'galR'), ('rpoD', 'galS'), ('rpoD', 'hipA'), ('rpoD', 'hipB'), ('rpoD', 'crp'), ('rpoD', 'fur'), ('rpoD', 'marR'), ('rpoD', 'rpoS'), ('rpoD', 'rpoE'), ('rpoD', 'rpoD'), ('rpoD', 'rpoH'), ('rpoD', 'rpoN'), ('rpoD', 'phoB'), ('rpoD', 'sdiA'), ('rpoD', 'ydeO'), ('rpoD', 'flhD'), ('rpoD', 'gutM'), ('rpoD', 'bglJ'), ('rpoD', 'mazE'), ('rpoD', 'mazF'), ('rpoD', 'fliZ'), ('rpoD', 'fliA'), ('rpoD', 'hns'), ('ihfA', 'fis'), ('ihfA', 'ompR'), ('ihfA', 'flhC'), ('ihfA', 'flhD'), ('ihfA', 'hipA'), ('ihfA', 'rpoH'), ('ihfA', 'fnr'), ('ihfA', 'ihfA'), ('ihfA', 'ihfB'), ('ihfA', 'hipB'), ('ihfB', 'fis'), ('ihfB', 'ompR'), ('ihfB', 'flhC'), ('ihfB', 'flhD'), ('ihfB', 'hipA'), ('ihfB', 'rpoH'), ('ihfB', 'fnr'), ('ihfB', 'ihfA'), ('ihfB', 'ihfB'), ('ihfB', 'hipB'), ('ecpR', 'fliZ'), ('ecpR', 'ecpR'), ('ecpR', 'flhC'), ('ecpR', 'flhD'), ('ecpR', 'fliA'), ('mqsR', 'mqsR'), ('mqsR', 'mqsA'), ('mqsA', 'rpoS'), ('mqsA', 'mqsR'), ('mqsA', 'mqsA'), ('cpxR', 'cpxR'), ('cpxR', 'rpoE'), ('cpxR', 'rpoH'), ('rpoE', 'rpoE'), ('rpoE', 'rpoD'), ('rpoE', 'rpoH'), ('rpoE', 'rpoN'), ('rpoE', 'ecpR'), ('rpoE', 'rutR'), ('dinJ', 'dinJ'), ('dinJ', 'yafQ'), ('yafQ', 'dinJ'), ('yafQ', 'yafQ'), ('galR', 'galR'), ('galR', 'galS'), ('galS', 'galR'), ('galS', 'galS'), ('hipA', 'hipA'), ('hipA', 'hipB'), ('hipB', 'hipA'), ('hipB', 'hipB'), ('cra', 'marR'), ('cra', 'marA'), ('rutR', 'rutR'), ('rutR', 'gadX'), ('rutR', 'gadW'), ('lexA', 'dinJ'), ('lexA', 'lexA'), ('lexA', 'rpoD'), ('lexA', 'yafQ'), ('rpoN', 'rpoH'), ('rpoN', 'flhC'), ('rpoN', 'flhD'), ('phoB', 'phoB'), ('phoB', 'argP'), ('sdiA', 'gadW'), ('phoP', 'ydeO'), ('phoP', 'phoP'), ('phoP', 'gadE'), ('phoP', 'gadW')])"
      ]
     },
     "execution_count": 27,
     "metadata": {},
     "output_type": "execute_result"
    }
   ],
   "source": [
    "graph.edges()"
   ]
  },
  {
   "cell_type": "code",
   "execution_count": 26,
   "metadata": {},
   "outputs": [
    {
     "name": "stdout",
     "output_type": "stream",
     "text": [
      "('srlR', 'srlR')\n",
      "('srlR', 'gutM')\n",
      "('gutM', 'srlR')\n",
      "('gutM', 'gutM')\n",
      "('rcsA', 'rcsA')\n",
      "('rcsA', 'flhC')\n",
      "('rcsA', 'flhD')\n",
      "('flhC', 'fliA')\n",
      "('flhC', 'fliZ')\n",
      "('flhD', 'fliA')\n",
      "('flhD', 'fliZ')\n",
      "('rcsB', 'flhC')\n",
      "('rcsB', 'ydeO')\n",
      "('rcsB', 'flhD')\n",
      "('rcsB', 'rcsA')\n",
      "('rcsB', 'leuO')\n",
      "('rcsB', 'gadX')\n",
      "('ydeO', 'gadE')\n",
      "('ydeO', 'ydeO')\n",
      "('leuO', 'bglJ')\n",
      "('leuO', 'leuO')\n",
      "('gadX', 'rpoS')\n",
      "('gadX', 'gadE')\n",
      "('gadX', 'gadX')\n",
      "('gadX', 'gadW')\n",
      "('gadX', 'hns')\n",
      "('cspA', 'hns')\n",
      "('hns', 'evgA')\n",
      "('hns', 'gutM')\n",
      "('hns', 'stpA')\n",
      "('hns', 'gadE')\n",
      "('hns', 'lrp')\n",
      "('hns', 'gadX')\n",
      "('hns', 'gadW')\n",
      "('hns', 'ydeO')\n",
      "('hns', 'hdfR')\n",
      "('hns', 'flhC')\n",
      "('hns', 'bglJ')\n",
      "('hns', 'flhD')\n",
      "('hns', 'rcsA')\n",
      "('hns', 'rcsB')\n",
      "('hns', 'mazE')\n",
      "('hns', 'mazF')\n",
      "('hns', 'fliA')\n",
      "('hns', 'fliZ')\n",
      "('hns', 'hns')\n",
      "('hns', 'leuO')\n",
      "('hns', 'srlR')\n",
      "('hns', 'adiY')\n",
      "('adiY', 'gadX')\n",
      "('arcA', 'gadX')\n",
      "('arcA', 'rpoS')\n",
      "('arcA', 'fnr')\n",
      "('rpoS', 'evgA')\n",
      "('rpoS', 'rhaS')\n",
      "('rpoS', 'rhaR')\n",
      "('rpoS', 'gadE')\n",
      "('rpoS', 'gadX')\n",
      "('rpoS', 'gadW')\n",
      "('rpoS', 'hdfR')\n",
      "('rpoS', 'ihfA')\n",
      "('rpoS', 'rpoH')\n",
      "('rpoS', 'oxyR')\n",
      "('rpoS', 'ihfB')\n",
      "('fnr', 'soxR')\n",
      "('fnr', 'gadX')\n",
      "('fnr', 'gadW')\n",
      "('fnr', 'fnr')\n",
      "('fnr', 'soxS')\n",
      "('fnr', 'arcA')\n",
      "('fis', 'fis')\n",
      "('fis', 'gadX')\n",
      "('fis', 'crp')\n",
      "('fis', 'mazF')\n",
      "('fis', 'marA')\n",
      "('fis', 'marR')\n",
      "('fis', 'mazE')\n",
      "('fis', 'hns')\n",
      "('crp', 'rhaS')\n",
      "('crp', 'rhaR')\n",
      "('crp', 'rpoS')\n",
      "('crp', 'rpoH')\n",
      "('crp', 'fis')\n",
      "('crp', 'ompR')\n",
      "('crp', 'oxyR')\n",
      "('crp', 'flhC')\n",
      "('crp', 'galS')\n",
      "('crp', 'crp')\n",
      "('crp', 'dksA')\n",
      "('crp', 'flhD')\n",
      "('crp', 'marR')\n",
      "('crp', 'fur')\n",
      "('crp', 'srlR')\n",
      "('crp', 'gutM')\n",
      "('crp', 'marA')\n",
      "('crp', 'gadE')\n",
      "('crp', 'gadX')\n",
      "('crp', 'mazE')\n",
      "('crp', 'mazF')\n",
      "('crp', 'cytR')\n",
      "('mazF', 'mazE')\n",
      "('mazF', 'mazF')\n",
      "('marA', 'rob')\n",
      "('marA', 'marR')\n",
      "('marA', 'marA')\n",
      "('marR', 'marA')\n",
      "('marR', 'marR')\n",
      "('mazE', 'mazE')\n",
      "('mazE', 'mazF')\n",
      "('ompR', 'flhC')\n",
      "('ompR', 'flhD')\n",
      "('oxyR', 'oxyR')\n",
      "('oxyR', 'fur')\n",
      "('fur', 'flhC')\n",
      "('fur', 'flhD')\n",
      "('fur', 'rpoS')\n",
      "('fur', 'fnr')\n",
      "('fur', 'fur')\n",
      "('fur', 'soxR')\n",
      "('fur', 'soxS')\n",
      "('qseB', 'qseB')\n",
      "('qseB', 'flhD')\n",
      "('qseB', 'flhC')\n",
      "('soxR', 'soxR')\n",
      "('soxR', 'soxS')\n",
      "('gadW', 'gadE')\n",
      "('gadW', 'gadX')\n",
      "('gadW', 'gadW')\n",
      "('soxS', 'marA')\n",
      "('soxS', 'rob')\n",
      "('soxS', 'marR')\n",
      "('soxS', 'soxS')\n",
      "('soxS', 'fur')\n",
      "('gadE', 'rcsA')\n",
      "('gadE', 'gadE')\n",
      "('gadE', 'lrp')\n",
      "('gadE', 'gadX')\n",
      "('gadE', 'gadW')\n",
      "('lrp', 'lrp')\n",
      "('lrp', 'stpA')\n",
      "('stpA', 'stpA')\n",
      "('stpA', 'leuO')\n",
      "('relB', 'relB')\n",
      "('relB', 'relE')\n",
      "('relE', 'relB')\n",
      "('relE', 'relE')\n",
      "('rhaS', 'rhaS')\n",
      "('rhaS', 'rhaR')\n",
      "('rhaR', 'rhaS')\n",
      "('rhaR', 'rhaR')\n",
      "('evgA', 'evgA')\n",
      "('evgA', 'gadE')\n",
      "('evgA', 'ydeO')\n",
      "('rob', 'marA')\n",
      "('rob', 'rob')\n",
      "('rob', 'marR')\n",
      "('hdfR', 'flhC')\n",
      "('hdfR', 'flhD')\n",
      "('torR', 'gadX')\n",
      "('torR', 'torR')\n",
      "('cytR', 'rpoH')\n",
      "('cytR', 'cytR')\n",
      "('rpoH', 'rpoD')\n",
      "('rpoH', 'phoP')\n",
      "('rpoH', 'ydeO')\n",
      "('rpoH', 'cra')\n",
      "('argP', 'argP')\n",
      "('argP', 'dnaA')\n",
      "('dnaA', 'dnaA')\n",
      "('dnaA', 'rpoH')\n",
      "('yoeB', 'yefM')\n",
      "('yoeB', 'yoeB')\n",
      "('yefM', 'yefM')\n",
      "('yefM', 'yoeB')\n",
      "('fliA', 'hdfR')\n",
      "('fliA', 'fliZ')\n",
      "('fliA', 'fliA')\n",
      "('fliA', 'flhC')\n",
      "('fliZ', 'flhD')\n",
      "('fliZ', 'gadE')\n",
      "('fliZ', 'flhC')\n",
      "('bglJ', 'leuO')\n",
      "('dksA', 'fis')\n",
      "('dksA', 'dksA')\n",
      "('dksA', 'rpoD')\n",
      "('dksA', 'ihfA')\n",
      "('dksA', 'ihfB')\n",
      "('rpoD', 'rcsA')\n",
      "('rpoD', 'rcsB')\n",
      "('rpoD', 'cspA')\n",
      "('rpoD', 'flhC')\n",
      "('rpoD', 'arcA')\n",
      "('rpoD', 'evgA')\n",
      "('rpoD', 'fis')\n",
      "('rpoD', 'ompR')\n",
      "('rpoD', 'srlR')\n",
      "('rpoD', 'oxyR')\n",
      "('rpoD', 'qseB')\n",
      "('rpoD', 'rutR')\n",
      "('rpoD', 'yafQ')\n",
      "('rpoD', 'fnr')\n",
      "('rpoD', 'gadE')\n",
      "('rpoD', 'gadX')\n",
      "('rpoD', 'stpA')\n",
      "('rpoD', 'relB')\n",
      "('rpoD', 'relE')\n",
      "('rpoD', 'rhaS')\n",
      "('rpoD', 'rhaR')\n",
      "('rpoD', 'lrp')\n",
      "('rpoD', 'torR')\n",
      "('rpoD', 'lexA')\n",
      "('rpoD', 'cytR')\n",
      "('rpoD', 'yoeB')\n",
      "('rpoD', 'leuO')\n",
      "('rpoD', 'dksA')\n",
      "('rpoD', 'marA')\n",
      "('rpoD', 'ecpR')\n",
      "('rpoD', 'yefM')\n",
      "('rpoD', 'mqsR')\n",
      "('rpoD', 'mqsA')\n",
      "('rpoD', 'soxR')\n",
      "('rpoD', 'soxS')\n",
      "('rpoD', 'cpxR')\n",
      "('rpoD', 'dinJ')\n",
      "('rpoD', 'galR')\n",
      "('rpoD', 'galS')\n",
      "('rpoD', 'hipA')\n",
      "('rpoD', 'hipB')\n",
      "('rpoD', 'crp')\n",
      "('rpoD', 'fur')\n",
      "('rpoD', 'marR')\n",
      "('rpoD', 'rpoS')\n",
      "('rpoD', 'rpoE')\n",
      "('rpoD', 'rpoD')\n",
      "('rpoD', 'rpoH')\n",
      "('rpoD', 'rpoN')\n",
      "('rpoD', 'phoB')\n",
      "('rpoD', 'sdiA')\n",
      "('rpoD', 'ydeO')\n",
      "('rpoD', 'flhD')\n",
      "('rpoD', 'gutM')\n",
      "('rpoD', 'bglJ')\n",
      "('rpoD', 'mazE')\n",
      "('rpoD', 'mazF')\n",
      "('rpoD', 'fliZ')\n",
      "('rpoD', 'fliA')\n",
      "('rpoD', 'hns')\n",
      "('ihfA', 'fis')\n",
      "('ihfA', 'ompR')\n",
      "('ihfA', 'flhC')\n",
      "('ihfA', 'flhD')\n",
      "('ihfA', 'hipA')\n",
      "('ihfA', 'rpoH')\n",
      "('ihfA', 'fnr')\n",
      "('ihfA', 'ihfA')\n",
      "('ihfA', 'ihfB')\n",
      "('ihfA', 'hipB')\n",
      "('ihfB', 'fis')\n",
      "('ihfB', 'ompR')\n",
      "('ihfB', 'flhC')\n",
      "('ihfB', 'flhD')\n",
      "('ihfB', 'hipA')\n",
      "('ihfB', 'rpoH')\n",
      "('ihfB', 'fnr')\n",
      "('ihfB', 'ihfA')\n",
      "('ihfB', 'ihfB')\n",
      "('ihfB', 'hipB')\n",
      "('ecpR', 'fliZ')\n",
      "('ecpR', 'ecpR')\n",
      "('ecpR', 'flhC')\n",
      "('ecpR', 'flhD')\n",
      "('ecpR', 'fliA')\n",
      "('mqsR', 'mqsR')\n",
      "('mqsR', 'mqsA')\n",
      "('mqsA', 'rpoS')\n",
      "('mqsA', 'mqsR')\n",
      "('mqsA', 'mqsA')\n",
      "('cpxR', 'cpxR')\n",
      "('cpxR', 'rpoE')\n",
      "('cpxR', 'rpoH')\n",
      "('rpoE', 'rpoE')\n",
      "('rpoE', 'rpoD')\n",
      "('rpoE', 'rpoH')\n",
      "('rpoE', 'rpoN')\n",
      "('rpoE', 'ecpR')\n",
      "('rpoE', 'rutR')\n",
      "('dinJ', 'dinJ')\n",
      "('dinJ', 'yafQ')\n",
      "('yafQ', 'dinJ')\n",
      "('yafQ', 'yafQ')\n",
      "('galR', 'galR')\n",
      "('galR', 'galS')\n",
      "('galS', 'galR')\n",
      "('galS', 'galS')\n",
      "('hipA', 'hipA')\n",
      "('hipA', 'hipB')\n",
      "('hipB', 'hipA')\n",
      "('hipB', 'hipB')\n",
      "('cra', 'marR')\n",
      "('cra', 'marA')\n",
      "('rutR', 'rutR')\n",
      "('rutR', 'gadX')\n",
      "('rutR', 'gadW')\n",
      "('lexA', 'dinJ')\n",
      "('lexA', 'lexA')\n",
      "('lexA', 'rpoD')\n",
      "('lexA', 'yafQ')\n",
      "('rpoN', 'rpoH')\n",
      "('rpoN', 'flhC')\n",
      "('rpoN', 'flhD')\n",
      "('phoB', 'phoB')\n",
      "('phoB', 'argP')\n",
      "('sdiA', 'gadW')\n",
      "('phoP', 'ydeO')\n",
      "('phoP', 'phoP')\n",
      "('phoP', 'gadE')\n",
      "('phoP', 'gadW')\n"
     ]
    }
   ],
   "source": [
    "for u,v in graph.edges():\n",
    "    print((u, v))"
   ]
  },
  {
   "cell_type": "code",
   "execution_count": 16,
   "metadata": {},
   "outputs": [
    {
     "name": "stdout",
     "output_type": "stream",
     "text": [
      "('srlR', 'srlR')\n",
      "('srlR', 'gutM')\n",
      "('gutM', 'srlR')\n",
      "('gutM', 'gutM')\n",
      "('rcsA', 'rcsA')\n",
      "('rcsA', 'flhC')\n",
      "('rcsA', 'flhD')\n",
      "('flhC', 'fliA')\n",
      "('flhC', 'fliZ')\n",
      "('flhD', 'fliA')\n",
      "('flhD', 'fliZ')\n",
      "('rcsB', 'flhC')\n",
      "('rcsB', 'ydeO')\n",
      "('rcsB', 'flhD')\n",
      "('rcsB', 'rcsA')\n",
      "('rcsB', 'leuO')\n",
      "('rcsB', 'gadX')\n",
      "('ydeO', 'gadE')\n",
      "('ydeO', 'ydeO')\n",
      "('leuO', 'bglJ')\n",
      "('leuO', 'leuO')\n",
      "('gadX', 'rpoS')\n",
      "('gadX', 'gadE')\n",
      "('gadX', 'gadX')\n",
      "('gadX', 'gadW')\n",
      "('gadX', 'hns')\n",
      "('cspA', 'hns')\n",
      "('hns', 'evgA')\n",
      "('hns', 'gutM')\n",
      "('hns', 'stpA')\n",
      "('hns', 'gadE')\n",
      "('hns', 'lrp')\n",
      "('hns', 'gadX')\n",
      "('hns', 'gadW')\n",
      "('hns', 'ydeO')\n",
      "('hns', 'hdfR')\n",
      "('hns', 'flhC')\n",
      "('hns', 'bglJ')\n",
      "('hns', 'flhD')\n",
      "('hns', 'rcsA')\n",
      "('hns', 'rcsB')\n",
      "('hns', 'mazE')\n",
      "('hns', 'mazF')\n",
      "('hns', 'fliA')\n",
      "('hns', 'fliZ')\n",
      "('hns', 'hns')\n",
      "('hns', 'leuO')\n",
      "('hns', 'srlR')\n",
      "('hns', 'adiY')\n",
      "('adiY', 'gadX')\n",
      "('arcA', 'gadX')\n",
      "('arcA', 'rpoS')\n",
      "('arcA', 'fnr')\n",
      "('rpoS', 'evgA')\n",
      "('rpoS', 'rhaS')\n",
      "('rpoS', 'rhaR')\n",
      "('rpoS', 'gadE')\n",
      "('rpoS', 'gadX')\n",
      "('rpoS', 'gadW')\n",
      "('rpoS', 'hdfR')\n",
      "('rpoS', 'ihfA')\n",
      "('rpoS', 'rpoH')\n",
      "('rpoS', 'oxyR')\n",
      "('rpoS', 'ihfB')\n",
      "('fnr', 'soxR')\n",
      "('fnr', 'gadX')\n",
      "('fnr', 'gadW')\n",
      "('fnr', 'fnr')\n",
      "('fnr', 'soxS')\n",
      "('fnr', 'arcA')\n",
      "('fis', 'fis')\n",
      "('fis', 'gadX')\n",
      "('fis', 'crp')\n",
      "('fis', 'mazF')\n",
      "('fis', 'marA')\n",
      "('fis', 'marR')\n",
      "('fis', 'mazE')\n",
      "('fis', 'hns')\n",
      "('crp', 'rhaS')\n",
      "('crp', 'rhaR')\n",
      "('crp', 'rpoS')\n",
      "('crp', 'rpoH')\n",
      "('crp', 'fis')\n",
      "('crp', 'ompR')\n",
      "('crp', 'oxyR')\n",
      "('crp', 'flhC')\n",
      "('crp', 'galS')\n",
      "('crp', 'crp')\n",
      "('crp', 'dksA')\n",
      "('crp', 'flhD')\n",
      "('crp', 'marR')\n",
      "('crp', 'fur')\n",
      "('crp', 'srlR')\n",
      "('crp', 'gutM')\n",
      "('crp', 'marA')\n",
      "('crp', 'gadE')\n",
      "('crp', 'gadX')\n",
      "('crp', 'mazE')\n",
      "('crp', 'mazF')\n",
      "('crp', 'cytR')\n",
      "('mazF', 'mazE')\n",
      "('mazF', 'mazF')\n",
      "('marA', 'rob')\n",
      "('marA', 'marR')\n",
      "('marA', 'marA')\n",
      "('marR', 'marA')\n",
      "('marR', 'marR')\n",
      "('mazE', 'mazE')\n",
      "('mazE', 'mazF')\n",
      "('ompR', 'flhC')\n",
      "('ompR', 'flhD')\n",
      "('oxyR', 'oxyR')\n",
      "('oxyR', 'fur')\n",
      "('fur', 'flhC')\n",
      "('fur', 'flhD')\n",
      "('fur', 'rpoS')\n",
      "('fur', 'fnr')\n",
      "('fur', 'fur')\n",
      "('fur', 'soxR')\n",
      "('fur', 'soxS')\n",
      "('qseB', 'qseB')\n",
      "('qseB', 'flhD')\n",
      "('qseB', 'flhC')\n",
      "('soxR', 'soxR')\n",
      "('soxR', 'soxS')\n",
      "('gadW', 'gadE')\n",
      "('gadW', 'gadX')\n",
      "('gadW', 'gadW')\n",
      "('soxS', 'marA')\n",
      "('soxS', 'rob')\n",
      "('soxS', 'marR')\n",
      "('soxS', 'soxS')\n",
      "('soxS', 'fur')\n",
      "('gadE', 'rcsA')\n",
      "('gadE', 'gadE')\n",
      "('gadE', 'lrp')\n",
      "('gadE', 'gadX')\n",
      "('gadE', 'gadW')\n",
      "('lrp', 'lrp')\n",
      "('lrp', 'stpA')\n",
      "('stpA', 'stpA')\n",
      "('stpA', 'leuO')\n",
      "('relB', 'relB')\n",
      "('relB', 'relE')\n",
      "('relE', 'relB')\n",
      "('relE', 'relE')\n",
      "('rhaS', 'rhaS')\n",
      "('rhaS', 'rhaR')\n",
      "('rhaR', 'rhaS')\n",
      "('rhaR', 'rhaR')\n",
      "('evgA', 'evgA')\n",
      "('evgA', 'gadE')\n",
      "('evgA', 'ydeO')\n",
      "('rob', 'marA')\n",
      "('rob', 'rob')\n",
      "('rob', 'marR')\n",
      "('hdfR', 'flhC')\n",
      "('hdfR', 'flhD')\n",
      "('torR', 'gadX')\n",
      "('torR', 'torR')\n",
      "('cytR', 'rpoH')\n",
      "('cytR', 'cytR')\n",
      "('rpoH', 'rpoD')\n",
      "('rpoH', 'phoP')\n",
      "('rpoH', 'ydeO')\n",
      "('rpoH', 'cra')\n",
      "('argP', 'argP')\n",
      "('argP', 'dnaA')\n",
      "('dnaA', 'dnaA')\n",
      "('dnaA', 'rpoH')\n",
      "('yoeB', 'yefM')\n",
      "('yoeB', 'yoeB')\n",
      "('yefM', 'yefM')\n",
      "('yefM', 'yoeB')\n",
      "('fliA', 'hdfR')\n",
      "('fliA', 'fliZ')\n",
      "('fliA', 'fliA')\n",
      "('fliA', 'flhC')\n",
      "('fliZ', 'flhD')\n",
      "('fliZ', 'gadE')\n",
      "('fliZ', 'flhC')\n",
      "('bglJ', 'leuO')\n",
      "('dksA', 'fis')\n",
      "('dksA', 'dksA')\n",
      "('dksA', 'rpoD')\n",
      "('dksA', 'ihfA')\n",
      "('dksA', 'ihfB')\n",
      "('rpoD', 'rcsA')\n",
      "('rpoD', 'rcsB')\n",
      "('rpoD', 'cspA')\n",
      "('rpoD', 'flhC')\n",
      "('rpoD', 'arcA')\n",
      "('rpoD', 'evgA')\n",
      "('rpoD', 'fis')\n",
      "('rpoD', 'ompR')\n",
      "('rpoD', 'srlR')\n",
      "('rpoD', 'oxyR')\n",
      "('rpoD', 'qseB')\n",
      "('rpoD', 'rutR')\n",
      "('rpoD', 'yafQ')\n",
      "('rpoD', 'fnr')\n",
      "('rpoD', 'gadE')\n",
      "('rpoD', 'gadX')\n",
      "('rpoD', 'stpA')\n",
      "('rpoD', 'relB')\n",
      "('rpoD', 'relE')\n",
      "('rpoD', 'rhaS')\n",
      "('rpoD', 'rhaR')\n",
      "('rpoD', 'lrp')\n",
      "('rpoD', 'torR')\n",
      "('rpoD', 'lexA')\n",
      "('rpoD', 'cytR')\n",
      "('rpoD', 'yoeB')\n",
      "('rpoD', 'leuO')\n",
      "('rpoD', 'dksA')\n",
      "('rpoD', 'marA')\n",
      "('rpoD', 'ecpR')\n",
      "('rpoD', 'yefM')\n",
      "('rpoD', 'mqsR')\n",
      "('rpoD', 'mqsA')\n",
      "('rpoD', 'soxR')\n",
      "('rpoD', 'soxS')\n",
      "('rpoD', 'cpxR')\n",
      "('rpoD', 'dinJ')\n",
      "('rpoD', 'galR')\n",
      "('rpoD', 'galS')\n",
      "('rpoD', 'hipA')\n",
      "('rpoD', 'hipB')\n",
      "('rpoD', 'crp')\n",
      "('rpoD', 'fur')\n",
      "('rpoD', 'marR')\n",
      "('rpoD', 'rpoS')\n",
      "('rpoD', 'rpoE')\n",
      "('rpoD', 'rpoD')\n",
      "('rpoD', 'rpoH')\n",
      "('rpoD', 'rpoN')\n",
      "('rpoD', 'phoB')\n",
      "('rpoD', 'sdiA')\n",
      "('rpoD', 'ydeO')\n",
      "('rpoD', 'flhD')\n",
      "('rpoD', 'gutM')\n",
      "('rpoD', 'bglJ')\n",
      "('rpoD', 'mazE')\n",
      "('rpoD', 'mazF')\n",
      "('rpoD', 'fliZ')\n",
      "('rpoD', 'fliA')\n",
      "('rpoD', 'hns')\n",
      "('ihfA', 'fis')\n",
      "('ihfA', 'ompR')\n",
      "('ihfA', 'flhC')\n",
      "('ihfA', 'flhD')\n",
      "('ihfA', 'hipA')\n",
      "('ihfA', 'rpoH')\n",
      "('ihfA', 'fnr')\n",
      "('ihfA', 'ihfA')\n",
      "('ihfA', 'ihfB')\n",
      "('ihfA', 'hipB')\n",
      "('ihfB', 'fis')\n",
      "('ihfB', 'ompR')\n",
      "('ihfB', 'flhC')\n",
      "('ihfB', 'flhD')\n",
      "('ihfB', 'hipA')\n",
      "('ihfB', 'rpoH')\n",
      "('ihfB', 'fnr')\n",
      "('ihfB', 'ihfA')\n",
      "('ihfB', 'ihfB')\n",
      "('ihfB', 'hipB')\n",
      "('ecpR', 'fliZ')\n",
      "('ecpR', 'ecpR')\n",
      "('ecpR', 'flhC')\n",
      "('ecpR', 'flhD')\n",
      "('ecpR', 'fliA')\n",
      "('mqsR', 'mqsR')\n",
      "('mqsR', 'mqsA')\n",
      "('mqsA', 'rpoS')\n",
      "('mqsA', 'mqsR')\n",
      "('mqsA', 'mqsA')\n",
      "('cpxR', 'cpxR')\n",
      "('cpxR', 'rpoE')\n",
      "('cpxR', 'rpoH')\n",
      "('rpoE', 'rpoE')\n",
      "('rpoE', 'rpoD')\n",
      "('rpoE', 'rpoH')\n",
      "('rpoE', 'rpoN')\n",
      "('rpoE', 'ecpR')\n",
      "('rpoE', 'rutR')\n",
      "('dinJ', 'dinJ')\n",
      "('dinJ', 'yafQ')\n",
      "('yafQ', 'dinJ')\n",
      "('yafQ', 'yafQ')\n",
      "('galR', 'galR')\n",
      "('galR', 'galS')\n",
      "('galS', 'galR')\n",
      "('galS', 'galS')\n",
      "('hipA', 'hipA')\n",
      "('hipA', 'hipB')\n",
      "('hipB', 'hipA')\n",
      "('hipB', 'hipB')\n",
      "('cra', 'marR')\n",
      "('cra', 'marA')\n",
      "('rutR', 'rutR')\n",
      "('rutR', 'gadX')\n",
      "('rutR', 'gadW')\n",
      "('lexA', 'dinJ')\n",
      "('lexA', 'lexA')\n",
      "('lexA', 'rpoD')\n",
      "('lexA', 'yafQ')\n",
      "('rpoN', 'rpoH')\n",
      "('rpoN', 'flhC')\n",
      "('rpoN', 'flhD')\n",
      "('phoB', 'phoB')\n",
      "('phoB', 'argP')\n",
      "('sdiA', 'gadW')\n",
      "('phoP', 'ydeO')\n",
      "('phoP', 'phoP')\n",
      "('phoP', 'gadE')\n",
      "('phoP', 'gadW')\n"
     ]
    }
   ],
   "source": [
    "for u,v in graph.edges():\n",
    "    if dict[(u, v)]\n",
    "    graph[u][v][\"weight\"] = 1"
   ]
  },
  {
   "cell_type": "code",
   "execution_count": null,
   "metadata": {},
   "outputs": [],
   "source": [
    "for (u, v) in graph.edges():\n",
    "    graph.add_edge(u,v,weight=1)"
   ]
  },
  {
   "cell_type": "code",
   "execution_count": 72,
   "metadata": {},
   "outputs": [
    {
     "data": {
      "text/plain": [
       "OutEdgeDataView([('soxR', 'soxR'), ('soxR', 'soxS')])"
      ]
     },
     "execution_count": 72,
     "metadata": {},
     "output_type": "execute_result"
    }
   ],
   "source": [
    "graph.edges(['soxR']) "
   ]
  },
  {
   "cell_type": "code",
   "execution_count": 71,
   "metadata": {},
   "outputs": [
    {
     "data": {
      "text/plain": [
       "OutEdgeDataView([('fnr', 'soxR'), ('fnr', 'gadX'), ('fnr', 'gadW'), ('fnr', 'fnr'), ('fnr', 'soxS'), ('fnr', 'arcA')])"
      ]
     },
     "execution_count": 71,
     "metadata": {},
     "output_type": "execute_result"
    }
   ],
   "source": [
    "#list(graph.nodes)\n",
    "graph.edges(['fnr']) "
   ]
  },
  {
   "cell_type": "code",
   "execution_count": 97,
   "metadata": {},
   "outputs": [
    {
     "data": {
      "text/plain": [
       "70"
      ]
     },
     "execution_count": 97,
     "metadata": {},
     "output_type": "execute_result"
    }
   ],
   "source": [
    "number_nodes = graph.number_of_nodes()\n",
    "number_nodes "
   ]
  },
  {
   "cell_type": "code",
   "execution_count": 98,
   "metadata": {},
   "outputs": [
    {
     "data": {
      "text/plain": [
       "317"
      ]
     },
     "execution_count": 98,
     "metadata": {},
     "output_type": "execute_result"
    }
   ],
   "source": [
    "number_edges = graph.number_of_edges()\n",
    "number_edges "
   ]
  },
  {
   "cell_type": "code",
   "execution_count": 99,
   "metadata": {},
   "outputs": [
    {
     "data": {
      "text/plain": [
       "9.057142857142857"
      ]
     },
     "execution_count": 99,
     "metadata": {},
     "output_type": "execute_result"
    }
   ],
   "source": [
    "avrg_degree = 2*317 / 70\n",
    "avrg_degree"
   ]
  },
  {
   "cell_type": "code",
   "execution_count": 8,
   "metadata": {},
   "outputs": [
    {
     "data": {
      "text/plain": [
       "55"
      ]
     },
     "execution_count": 8,
     "metadata": {},
     "output_type": "execute_result"
    }
   ],
   "source": [
    "import networkx as nx\n",
    "nx.number_of_selfloops(graph)"
   ]
  },
  {
   "cell_type": "code",
   "execution_count": 9,
   "metadata": {},
   "outputs": [],
   "source": [
    "degree_sequence = sorted((d for n, d in graph.degree()), reverse=True)"
   ]
  },
  {
   "cell_type": "code",
   "execution_count": 10,
   "metadata": {},
   "outputs": [
    {
     "data": {
      "text/plain": [
       "9.057142857142857"
      ]
     },
     "execution_count": 10,
     "metadata": {},
     "output_type": "execute_result"
    }
   ],
   "source": [
    "sum(degree_sequence)/len(degree_sequence)"
   ]
  },
  {
   "cell_type": "code",
   "execution_count": 42,
   "metadata": {},
   "outputs": [
    {
     "data": {
      "text/plain": [
       "3"
      ]
     },
     "execution_count": 42,
     "metadata": {},
     "output_type": "execute_result"
    }
   ],
   "source": [
    "np.random.randint(0,4)"
   ]
  },
  {
   "cell_type": "code",
   "execution_count": 100,
   "metadata": {},
   "outputs": [],
   "source": [
    "adj_matrix = nx.adjacency_matrix(graph).todense()\n",
    "#print(adj_matrix.todense())"
   ]
  },
  {
   "cell_type": "code",
   "execution_count": 82,
   "metadata": {},
   "outputs": [
    {
     "data": {
      "text/plain": [
       "array([[1, 1, 0, 0, 0, 0, 0, 0, 0, 0],\n",
       "       [1, 1, 0, 0, 0, 0, 0, 0, 0, 0],\n",
       "       [0, 0, 1, 1, 1, 0, 0, 0, 0, 0],\n",
       "       [0, 0, 0, 0, 0, 0, 0, 0, 0, 0],\n",
       "       [0, 0, 0, 0, 0, 0, 0, 0, 0, 0],\n",
       "       [0, 0, 1, 1, 1, 0, 1, 1, 1, 0],\n",
       "       [0, 0, 0, 0, 0, 0, 1, 0, 0, 0],\n",
       "       [0, 0, 0, 0, 0, 0, 0, 1, 0, 0],\n",
       "       [0, 0, 0, 0, 0, 0, 0, 0, 1, 0],\n",
       "       [0, 0, 0, 0, 0, 0, 0, 0, 0, 0]])"
      ]
     },
     "execution_count": 82,
     "metadata": {},
     "output_type": "execute_result"
    }
   ],
   "source": [
    "adj_matrix[:10,:10]"
   ]
  },
  {
   "cell_type": "code",
   "execution_count": 101,
   "metadata": {},
   "outputs": [
    {
     "data": {
      "text/plain": [
       "('rcsB', 'rcsA')"
      ]
     },
     "execution_count": 101,
     "metadata": {},
     "output_type": "execute_result"
    }
   ],
   "source": [
    "list(graph.nodes)[5], list(graph.nodes)[2]"
   ]
  },
  {
   "cell_type": "code",
   "execution_count": 91,
   "metadata": {},
   "outputs": [
    {
     "data": {
      "text/plain": [
       "OutEdgeDataView([('rcsB', 'flhC'), ('rcsB', 'ydeO'), ('rcsB', 'flhD'), ('rcsB', 'rcsA'), ('rcsB', 'leuO'), ('rcsB', 'gadX')])"
      ]
     },
     "execution_count": 91,
     "metadata": {},
     "output_type": "execute_result"
    }
   ],
   "source": [
    "graph.edges(['rcsB']) "
   ]
  },
  {
   "cell_type": "code",
   "execution_count": 92,
   "metadata": {},
   "outputs": [
    {
     "data": {
      "text/plain": [
       "OutEdgeDataView([('rcsA', 'rcsA'), ('rcsA', 'flhC'), ('rcsA', 'flhD')])"
      ]
     },
     "execution_count": 92,
     "metadata": {},
     "output_type": "execute_result"
    }
   ],
   "source": [
    "graph.edges(['rcsA']) "
   ]
  },
  {
   "cell_type": "code",
   "execution_count": 102,
   "metadata": {},
   "outputs": [
    {
     "data": {
      "text/plain": [
       "(1, 0)"
      ]
     },
     "execution_count": 102,
     "metadata": {},
     "output_type": "execute_result"
    }
   ],
   "source": [
    "adj_matrix[5,2], adj_matrix[2,5]"
   ]
  },
  {
   "cell_type": "code",
   "execution_count": 103,
   "metadata": {},
   "outputs": [],
   "source": [
    "if isinstance(adj_matrix, nx.Graph):\n",
    "    print(\"yes\")\n",
    "    adj_matrix = nx.adjacency_matrix(adj_matrix).todense()\n",
    "                    "
   ]
  },
  {
   "cell_type": "code",
   "execution_count": 104,
   "metadata": {},
   "outputs": [],
   "source": [
    "adj_matrix = np.asarray(adj_matrix)\n"
   ]
  },
  {
   "cell_type": "code",
   "execution_count": 105,
   "metadata": {},
   "outputs": [],
   "source": [
    "adj_matrix = adj_matrix.T"
   ]
  },
  {
   "cell_type": "code",
   "execution_count": 106,
   "metadata": {},
   "outputs": [
    {
     "data": {
      "text/plain": [
       "(0, 1)"
      ]
     },
     "execution_count": 106,
     "metadata": {},
     "output_type": "execute_result"
    }
   ],
   "source": [
    "adj_matrix[5,2], adj_matrix[2,5]"
   ]
  },
  {
   "cell_type": "code",
   "execution_count": 14,
   "metadata": {},
   "outputs": [
    {
     "data": {
      "text/plain": [
       "70"
      ]
     },
     "execution_count": 14,
     "metadata": {},
     "output_type": "execute_result"
    }
   ],
   "source": [
    "adj_matrix.shape[0]"
   ]
  },
  {
   "cell_type": "code",
   "execution_count": 1,
   "metadata": {},
   "outputs": [],
   "source": [
    "# generate dataset\n",
    "import datasets_sol as datasets\n",
    "sample_len=1000\n",
    "n_samples=100\n",
    "[x, y, x_der] = datasets.gaosc(n_samples=n_samples, sample_len=sample_len)"
   ]
  },
  {
   "cell_type": "code",
   "execution_count": 14,
   "metadata": {},
   "outputs": [
    {
     "data": {
      "text/plain": [
       "[<matplotlib.lines.Line2D at 0x7febb236d640>]"
      ]
     },
     "execution_count": 14,
     "metadata": {},
     "output_type": "execute_result"
    },
    {
     "data": {
      "image/png": "[encoded data removed]",
      "text/plain": [
       "<Figure size 640x480 with 1 Axes>"
      ]
     },
     "metadata": {},
     "output_type": "display_data"
    }
   ],
   "source": [
    "plt.plot(x[4])"
   ]
  },
  {
   "cell_type": "code",
   "execution_count": 15,
   "metadata": {},
   "outputs": [
    {
     "data": {
      "text/plain": [
       "[<matplotlib.lines.Line2D at 0x7febb2007d00>]"
      ]
     },
     "execution_count": 15,
     "metadata": {},
     "output_type": "execute_result"
    },
    {
     "data": {
      "image/png": "[encoded data removed]",
      "text/plain": [
       "<Figure size 640x480 with 1 Axes>"
      ]
     },
     "metadata": {},
     "output_type": "display_data"
    }
   ],
   "source": [
    "plt.plot(y[4])"
   ]
  },
  {
   "cell_type": "code",
   "execution_count": 108,
   "metadata": {},
   "outputs": [
    {
     "name": "stdout",
     "output_type": "stream",
     "text": [
      "Computing spectral radius...\n",
      "done.\n"
     ]
    }
   ],
   "source": [
    "# generate the ESN reservoir\n",
    "inSize = 1\n",
    "outSize = 3\n",
    "resSize = adj_matrix.shape[0]\n",
    "np.random.seed(42)\n",
    "# w_in -0.05 or 0.05\n",
    "#Win  = (np.random.randint(0, 2, (resSize,1+inSize))*2 - 1)*0.05\n",
    "Win  = (np.random.randint(0, 2, (resSize,inSize))*2 - 1)*0.05\n",
    "# w between -1 and 1\n",
    "#W = np.random.random((resSize,resSize))*2-1\n",
    "W = adj_matrix * (np.random.random(adj_matrix.shape)*2-1)\n",
    "# normalizing and setting spectral radius (correct, slow):\n",
    "print('Computing spectral radius...')\n",
    "rhoW = max(abs(linalg.eig(W)[0]))\n",
    "print('done.')\n",
    "W *= 0.9 / rhoW\n"
   ]
  },
  {
   "cell_type": "code",
   "execution_count": 109,
   "metadata": {},
   "outputs": [],
   "source": [
    "import warnings\n",
    "import numpy as np\n",
    "from scipy.integrate import odeint \n",
    "def simulate_reservoir_dynamics(weights, input_weights, input_der, sample_len,\n",
    "                                init_state=None):\n",
    "    \"\"\"Simulate the dynamics of a reservoir.\n",
    "\n",
    "    Given the internal weights that define the reservoir, the input weights,\n",
    "    the input signal stream, the initial state and the integrative function\n",
    "    that the nodes apply, it computes the dynamics of the reservoir.\n",
    "\n",
    "    Parameters\n",
    "    ----------\n",
    "    weights : numpy array\n",
    "        Weighted adjacency matrix that defines the connectivity of the\n",
    "        reservoir. Must be squared.\n",
    "    input_weights : numpy array\n",
    "        Weights that determine the effect of the input signal stream on each of\n",
    "        the nodes of the reservoir. Rows are input streams (there might be more\n",
    "        than one) and columns correspond to reservoir nodes (equal to number of\n",
    "        rows and columns of `weights`).\n",
    "    init_state : None, numpy array, optional (default=None)\n",
    "        Value of the nodes of the reservoir at the initial time step. It must\n",
    "        be a 1-dimensional vector of the length of the reservoir size. If\n",
    "        `None` all nodes are initialized at `0`.\n",
    "    node_function : None, Function, optional (default=None)\n",
    "        Function applied to the weigted sum of all the incomming connections of\n",
    "        a node to compute its state. It defaults to the hiperbolic tangent.\n",
    "    \"\"\"\n",
    "    nnodes = weights.shape[0]\n",
    "    k=0.05 # protein production\n",
    "    d=0.05 # protein degradation\n",
    "    \n",
    "    def sigmoid(x):\n",
    "        return 0.5*((x-0.5)/np.sqrt((x-0.5)**2+0.1)+1)\n",
    "    \n",
    "    def input_signal(t, input_der):\n",
    "        return input_der*t + 1\n",
    "        \n",
    "    def dyn(x, t, input_der):\n",
    "        \n",
    "        dxdt = np.zeros(nnodes)\n",
    "        r = np.dot(weights, x)\n",
    "        for i in range(nnodes):\n",
    "            \"\"\" r = 0\n",
    "            for j in range(nnodes):\n",
    "                r += weights[j][i] * x[j] \"\"\"\n",
    "            dxdt[i] = k * sigmoid(input_weights[i]*input_signal(t, input_der) + r[i]) - d * x[i] # dinamica de los genes del reservorio, ecuacion 1 del TFM\n",
    "         \n",
    "        return dxdt\n",
    "\n",
    "\n",
    "    x0 = np.repeat(0,nnodes)\n",
    "    if init_state is not None:\n",
    "        x0 = init_state \n",
    "    \n",
    "    t = np.linspace(0,sample_len,sample_len)\n",
    "\n",
    "    x = odeint(dyn, x0, t, args=(input_der,))\n",
    "    \n",
    "    #np.savetxt('output.csv', x)\n",
    "    return x.T"
   ]
  },
  {
   "cell_type": "code",
   "execution_count": 110,
   "metadata": {},
   "outputs": [],
   "source": [
    "xxT = 0\n",
    "yxT = 0\n",
    "for i in range(len(x)):\n",
    "    input_der = x_der[i]\n",
    "    y_target =  y[i].T # nout * lensteps\n",
    "    res_dynamics = simulate_reservoir_dynamics(W, Win, input_der, sample_len)\n",
    "    # res_dynamics.shape = nodes * sample_len\n",
    "    #res_dynamics = np.vstack([np.ones(sample_len)/n_samples, res_dynamics])\n",
    "    xxT += (np.dot(res_dynamics, res_dynamics.T))\n",
    "    yxT += (np.dot(y_target, res_dynamics.T))"
   ]
  },
  {
   "cell_type": "code",
   "execution_count": 111,
   "metadata": {},
   "outputs": [],
   "source": [
    "reg = 1e-8 \n",
    "#Wout = np.dot( yxT, linalg.inv( xxT  + reg*np.eye(1+resSize) ) )\n",
    "Wout = np.dot( yxT, linalg.inv( xxT  + reg*np.eye(resSize) ) )"
   ]
  },
  {
   "cell_type": "markdown",
   "metadata": {},
   "source": [
    "# Prediccion"
   ]
  },
  {
   "cell_type": "code",
   "execution_count": 122,
   "metadata": {},
   "outputs": [],
   "source": [
    "sample_len=1000\n",
    "[x_test, y_test, x_der_test] = datasets.ga3(n_samples=1, sample_len=sample_len)"
   ]
  },
  {
   "cell_type": "code",
   "execution_count": 29,
   "metadata": {},
   "outputs": [],
   "source": [
    "input_der = x_der_test[0]\n",
    "y_target =  y_test[0].T # nout * lensteps\n",
    "res_dynamics = simulate_reservoir_dynamics(W, Win, input_der, sample_len)\n",
    "# res_dynamics.shape = nodes * sample_len\n",
    "#res_dynamics = np.vstack([np.ones(sample_len), res_dynamics])\n",
    "y_pred = np.dot(Wout, res_dynamics)"
   ]
  },
  {
   "cell_type": "code",
   "execution_count": 123,
   "metadata": {},
   "outputs": [
    {
     "data": {
      "text/plain": [
       "[<matplotlib.lines.Line2D at 0x7f70501cdaf0>]"
      ]
     },
     "execution_count": 123,
     "metadata": {},
     "output_type": "execute_result"
    },
    {
     "data": {
      "image/png": "[encoded data removed]",
      "text/plain": [
       "<Figure size 640x480 with 1 Axes>"
      ]
     },
     "metadata": {},
     "output_type": "display_data"
    }
   ],
   "source": [
    "plt.plot(x_test[0])"
   ]
  },
  {
   "cell_type": "code",
   "execution_count": 41,
   "metadata": {},
   "outputs": [
    {
     "data": {
      "text/plain": [
       "[<matplotlib.lines.Line2D at 0x7f0a633af220>]"
      ]
     },
     "execution_count": 41,
     "metadata": {},
     "output_type": "execute_result"
    },
    {
     "data": {
      "image/png": "[encoded data removed]",
      "text/plain": [
       "<Figure size 640x480 with 1 Axes>"
      ]
     },
     "metadata": {},
     "output_type": "display_data"
    }
   ],
   "source": [
    "plt.plot(y_pred[2])\n",
    "plt.plot(y_target[2])"
   ]
  },
  {
   "cell_type": "code",
   "execution_count": 42,
   "metadata": {},
   "outputs": [
    {
     "data": {
      "text/plain": [
       "[<matplotlib.lines.Line2D at 0x7f0a633d7910>]"
      ]
     },
     "execution_count": 42,
     "metadata": {},
     "output_type": "execute_result"
    },
    {
     "data": {
      "image/png": "[encoded data removed]",
      "text/plain": [
       "<Figure size 640x480 with 1 Axes>"
      ]
     },
     "metadata": {},
     "output_type": "display_data"
    }
   ],
   "source": [
    "plt.plot(y_pred[1])\n",
    "plt.plot(y_target[1])"
   ]
  },
  {
   "cell_type": "code",
   "execution_count": 43,
   "metadata": {},
   "outputs": [
    {
     "data": {
      "text/plain": [
       "[<matplotlib.lines.Line2D at 0x7f0a632ff730>]"
      ]
     },
     "execution_count": 43,
     "metadata": {},
     "output_type": "execute_result"
    },
    {
     "data": {
      "image/png": "[encoded data removed]",
      "text/plain": [
       "<Figure size 640x480 with 1 Axes>"
      ]
     },
     "metadata": {},
     "output_type": "display_data"
    }
   ],
   "source": [
    "plt.plot(y_pred[0])\n",
    "plt.plot(y_target[0])"
   ]
  },
  {
   "cell_type": "code",
   "execution_count": 116,
   "metadata": {},
   "outputs": [],
   "source": [
    "import warnings\n",
    "import numpy as np\n",
    "from scipy.integrate import odeint \n",
    "def simulate_reservoir_w_out_dynamics(weights, input_weights, input_der, sample_len,\n",
    "                                 output_weights, init_state=None):\n",
    "    \"\"\"Simulate the dynamics of a reservoir.\n",
    "\n",
    "    Given the internal weights that define the reservoir, the input weights,\n",
    "    the input signal stream, the initial state and the integrative function\n",
    "    that the nodes apply, it computes the dynamics of the reservoir.\n",
    "\n",
    "    Parameters\n",
    "    ----------\n",
    "    weights : numpy array\n",
    "        Weighted adjacency matrix that defines the connectivity of the\n",
    "        reservoir. Must be squared.\n",
    "    input_weights : numpy array\n",
    "        Weights that determine the effect of the input signal stream on each of\n",
    "        the nodes of the reservoir. Rows are input streams (there might be more\n",
    "        than one) and columns correspond to reservoir nodes (equal to number of\n",
    "        rows and columns of `weights`).\n",
    "    init_state : None, numpy array, optional (default=None)\n",
    "        Value of the nodes of the reservoir at the initial time step. It must\n",
    "        be a 1-dimensional vector of the length of the reservoir size. If\n",
    "        `None` all nodes are initialized at `0`.\n",
    "    node_function : None, Function, optional (default=None)\n",
    "        Function applied to the weigted sum of all the incomming connections of\n",
    "        a node to compute its state. It defaults to the hiperbolic tangent.\n",
    "    \"\"\"\n",
    "    nnodes = weights.shape[0]\n",
    "    n_outs = output_weights.shape[0] # Wout = nout * nnodes\n",
    "    tot = nnodes + n_outs\n",
    "    k=0.05 # protein production\n",
    "    d=0.05 # protein degradation\n",
    "    \n",
    "    def sigmoid(x):\n",
    "        return 0.5*((x-0.5)/np.sqrt((x-0.5)**2+0.1)+1)\n",
    "    \n",
    "    def input_signal(t, input_der):\n",
    "        return input_der*t + 1\n",
    "        \n",
    "    def dyn(x, t, input_der):\n",
    "        dxdt = np.zeros(tot)\n",
    "        x_res = x[:nnodes]\n",
    "        x_out = x[nnodes:]\n",
    "        r = np.dot(weights, x_res)\n",
    "        r_out = np.dot(output_weights, x_res)\n",
    "        for i in range(nnodes):\n",
    "            dxdt[i] = k * sigmoid(input_weights[i]*input_signal(t, input_der) + r[i]) - d * x_res[i] # dinamica de los genes del reservorio, ecuacion 1 del TFM\n",
    "        for i in range(n_outs): # dinamica de los genes del output\n",
    "            dxdt[i+nnodes] = k * sigmoid(r_out[i]) - d * x_out[i] \n",
    "        return dxdt\n",
    "\n",
    "\n",
    "    x0 = np.repeat(0,tot)\n",
    "    if init_state is not None:\n",
    "        x0 = init_state \n",
    "    \n",
    "    t = np.linspace(0,sample_len,sample_len)\n",
    "\n",
    "    x = odeint(dyn, x0, t, args=(input_der,))\n",
    "    \n",
    "    #np.savetxt('output.csv', x)\n",
    "    return x.T"
   ]
  },
  {
   "cell_type": "code",
   "execution_count": 124,
   "metadata": {},
   "outputs": [],
   "source": [
    "input_der = x_der_test[0]\n",
    "y_target =  y_test[0].T # nout * lensteps\n",
    "res_dynamics = simulate_reservoir_w_out_dynamics(W, Win, input_der, sample_len, Wout)\n",
    "# res_dynamics.shape = nodes * sample_len\n",
    "#res_dynamics = np.vstack([np.ones(sample_len), res_dynamics])\n",
    "#y_pred = np.dot(Wout, res_dynamics)"
   ]
  },
  {
   "cell_type": "code",
   "execution_count": 125,
   "metadata": {},
   "outputs": [],
   "source": [
    "y_pred = res_dynamics[70:]"
   ]
  },
  {
   "cell_type": "code",
   "execution_count": 20,
   "metadata": {},
   "outputs": [
    {
     "data": {
      "text/plain": [
       "(3, 1000)"
      ]
     },
     "execution_count": 20,
     "metadata": {},
     "output_type": "execute_result"
    }
   ],
   "source": [
    "y_pred.shape"
   ]
  },
  {
   "cell_type": "code",
   "execution_count": 126,
   "metadata": {},
   "outputs": [
    {
     "data": {
      "text/plain": [
       "(-0.05, 1.05)"
      ]
     },
     "execution_count": 126,
     "metadata": {},
     "output_type": "execute_result"
    },
    {
     "data": {
      "image/png": "[encoded data removed]",
      "text/plain": [
       "<Figure size 640x480 with 1 Axes>"
      ]
     },
     "metadata": {},
     "output_type": "display_data"
    }
   ],
   "source": [
    "plt.plot(y_pred[0])\n",
    "plt.plot(y_target[0])\n",
    "plt.ylim((-0.05, 1.05))"
   ]
  },
  {
   "cell_type": "code",
   "execution_count": 127,
   "metadata": {},
   "outputs": [
    {
     "data": {
      "text/plain": [
       "(-0.05, 1.05)"
      ]
     },
     "execution_count": 127,
     "metadata": {},
     "output_type": "execute_result"
    },
    {
     "data": {
      "image/png": "[encoded data removed]",
      "text/plain": [
       "<Figure size 640x480 with 1 Axes>"
      ]
     },
     "metadata": {},
     "output_type": "display_data"
    }
   ],
   "source": [
    "plt.plot(y_pred[1])\n",
    "plt.plot(y_target[1])\n",
    "plt.ylim((-0.05, 1.05))"
   ]
  },
  {
   "cell_type": "code",
   "execution_count": 128,
   "metadata": {},
   "outputs": [
    {
     "data": {
      "text/plain": [
       "(-0.05, 1.05)"
      ]
     },
     "execution_count": 128,
     "metadata": {},
     "output_type": "execute_result"
    },
    {
     "data": {
      "image/png": "[encoded data removed]",
      "text/plain": [
       "<Figure size 640x480 with 1 Axes>"
      ]
     },
     "metadata": {},
     "output_type": "display_data"
    }
   ],
   "source": [
    "plt.plot(y_pred[2])\n",
    "plt.plot(y_target[2])\n",
    "plt.ylim((-0.05, 1.05))"
   ]
  }
 ],
 "metadata": {
  "kernelspec": {
   "display_name": "Python 3.9.12 ('base')",
   "language": "python",
   "name": "python3"
  },
  "language_info": {
   "codemirror_mode": {
    "name": "ipython",
    "version": 3
   },
   "file_extension": ".py",
   "mimetype": "text/x-python",
   "name": "python",
   "nbconvert_exporter": "python",
   "pygments_lexer": "ipython3",
   "version": "3.9.18"
  },
  "orig_nbformat": 4,
  "vscode": {
   "interpreter": {
    "hash": "1d0c3caab67cdc3cb671aad33f4d3ea243842a14d4ea407190d5b54cd82f317a"
   }
  }
 },
 "nbformat": 4,
 "nbformat_minor": 2
}
