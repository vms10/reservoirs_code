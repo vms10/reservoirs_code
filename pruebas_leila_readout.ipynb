{
 "cells": [
  {
   "cell_type": "code",
   "execution_count": 1,
   "metadata": {},
   "outputs": [],
   "source": [
    "import sys\n",
    "sys.path.append('/home/sol/Escritorio/reservoirs_code/')\n",
    "import numpy as np\n",
    "import reservoirs\n",
    "import readouts_leila as readouts \n",
    "import datasets_sol as datasets"
   ]
  },
  {
   "cell_type": "code",
   "execution_count": 2,
   "metadata": {},
   "outputs": [],
   "source": [
    "def training(data_source,in_weight,weights):\n",
    "    # Generate dataset \n",
    "    sample_len=1000\n",
    "    [x, y, x_der] = data_source.func(n_samples=1000,sample_len=sample_len)\n",
    "    \n",
    "    res_dynamics = [reservoirs.simulate_reservoir_dynamics(weights, in_weight,\n",
    "                                                input_der, sample_len)\n",
    "                    for input_der in x_der]\n",
    "    \n",
    "    with_bias = False ################## NO BIAS #################\n",
    "    rregr = readouts.RidgeRegression(use_bias=with_bias)\n",
    "    \n",
    "    [rregr.train(x_train, y_train) for x_train, y_train in zip(res_dynamics, y)]\n",
    "\n",
    "    rregr.finish_training()\n",
    "\n",
    "    return(rregr)"
   ]
  },
  {
   "cell_type": "code",
   "execution_count": 3,
   "metadata": {},
   "outputs": [],
   "source": [
    "spectral_radius = 0.9\n",
    "nodes=70\n",
    "adj_matrix = np.random.randint(2,size=(nodes, nodes))\n",
    "inputs_arr = np.random.randint(0, 2, (nodes, 1))*2 - 1"
   ]
  },
  {
   "cell_type": "code",
   "execution_count": 8,
   "metadata": {},
   "outputs": [
    {
     "data": {
      "text/plain": [
       "(70, 1)"
      ]
     },
     "execution_count": 8,
     "metadata": {},
     "output_type": "execute_result"
    }
   ],
   "source": [
    "inputs_arr.shape"
   ]
  },
  {
   "cell_type": "code",
   "execution_count": 4,
   "metadata": {},
   "outputs": [],
   "source": [
    "class _data_source():\n",
    "    def __init__(self, name, func):\n",
    "        self.name = name\n",
    "        self.func = func\n",
    "\n",
    "\n",
    "data_sources = [_data_source(\"30th order NARMA\", datasets.narma30),\n",
    "                _data_source(\"Gene activation 3\", datasets.ga3)]"
   ]
  },
  {
   "cell_type": "code",
   "execution_count": 5,
   "metadata": {},
   "outputs": [],
   "source": [
    "data_source = data_sources[1]\n",
    "adj_matrix = adj_matrix\n",
    "input_weight=inputs_arr\n",
    "spectral_radius_scale=spectral_radius\n",
    "with_bias=True\n",
    "if hasattr(adj_matrix, \"todense\"):\n",
    "    adj_matrix = adj_matrix.todense()\n",
    "adj_matrix = np.asarray(adj_matrix)"
   ]
  },
  {
   "cell_type": "code",
   "execution_count": 6,
   "metadata": {},
   "outputs": [],
   "source": [
    "if hasattr(adj_matrix, \"todense\"):\n",
    "    adj_matrix = adj_matrix.todense()\n",
    "adj_matrix = np.asarray(adj_matrix)\n",
    "\n",
    "weights = adj_matrix * (np.random.random(adj_matrix.shape)*2-1) ### RANDOM wei\n",
    "\n",
    "if spectral_radius_scale:\n",
    "    spectral_radius = reservoirs.get_spectral_radius(weights)\n",
    "    if spectral_radius == 0:\n",
    "        raise RuntimeError(\"Nilpotent adjacency matrix matrix\")\n",
    "    weights = weights *(spectral_radius_scale / spectral_radius)\n",
    "#np.savetxt('weights.txt', weights)\n",
    "#weights=np.loadtxt('weights.txt')"
   ]
  },
  {
   "cell_type": "code",
   "execution_count": 7,
   "metadata": {},
   "outputs": [
    {
     "ename": "NameError",
     "evalue": "name 'xrange' is not defined",
     "output_type": "error",
     "traceback": [
      "\u001b[0;31m---------------------------------------------------------------------------\u001b[0m",
      "\u001b[0;31mNameError\u001b[0m                                 Traceback (most recent call last)",
      "\u001b[1;32m/home/sol/Escritorio/reservoirs_code/pruebas_leila_readout.ipynb Celda 7\u001b[0m in \u001b[0;36m<cell line: 25>\u001b[0;34m()\u001b[0m\n\u001b[1;32m     <a href='vscode-notebook-cell:/home/sol/Escritorio/reservoirs_code/pruebas_leila_readout.ipynb#W2sZmlsZQ%3D%3D?line=21'>22</a>\u001b[0m res_dynamics \u001b[39m=\u001b[39m [reservoirs\u001b[39m.\u001b[39msimulate_reservoir_dynamics(weights, in_weight, input_der, sample_len) \u001b[39mfor\u001b[39;00m input_der \u001b[39min\u001b[39;00m x_der]\n\u001b[1;32m     <a href='vscode-notebook-cell:/home/sol/Escritorio/reservoirs_code/pruebas_leila_readout.ipynb#W2sZmlsZQ%3D%3D?line=24'>25</a>\u001b[0m \u001b[39mfor\u001b[39;00m i \u001b[39min\u001b[39;00m \u001b[39mrange\u001b[39m(n_samples):\n\u001b[0;32m---> <a href='vscode-notebook-cell:/home/sol/Escritorio/reservoirs_code/pruebas_leila_readout.ipynb#W2sZmlsZQ%3D%3D?line=26'>27</a>\u001b[0m     pred \u001b[39m=\u001b[39m rregr(res_dynamics[i])\n\u001b[1;32m     <a href='vscode-notebook-cell:/home/sol/Escritorio/reservoirs_code/pruebas_leila_readout.ipynb#W2sZmlsZQ%3D%3D?line=28'>29</a>\u001b[0m     n_out \u001b[39m=\u001b[39m \u001b[39m3\u001b[39m  \u001b[39m### FOURTH GENE\u001b[39;00m\n\u001b[1;32m     <a href='vscode-notebook-cell:/home/sol/Escritorio/reservoirs_code/pruebas_leila_readout.ipynb#W2sZmlsZQ%3D%3D?line=29'>30</a>\u001b[0m     error \u001b[39m=\u001b[39m \u001b[39m0\u001b[39m\n",
      "File \u001b[0;32m~/Escritorio/reservoirs_code/readouts_leila.py:111\u001b[0m, in \u001b[0;36mLinearRegression.__call__\u001b[0;34m(self, x)\u001b[0m\n\u001b[1;32m    108\u001b[0m r \u001b[39m=\u001b[39m ode(readout)\u001b[39m.\u001b[39mset_integrator(\u001b[39m\"\u001b[39m\u001b[39mdop853\u001b[39m\u001b[39m\"\u001b[39m)\n\u001b[1;32m    109\u001b[0m r\u001b[39m.\u001b[39mset_initial_value(x0[out],\u001b[39m0\u001b[39m)\u001b[39m.\u001b[39mset_f_params(res_dyn[\u001b[39m0\u001b[39m:])\n\u001b[0;32m--> 111\u001b[0m \u001b[39mfor\u001b[39;00m i \u001b[39min\u001b[39;00m xrange(\u001b[39mlen\u001b[39m(t)):\n\u001b[1;32m    113\u001b[0m     r\u001b[39m.\u001b[39mset_f_params(res_dyn[i,:])\n\u001b[1;32m    114\u001b[0m     r\u001b[39m.\u001b[39mintegrate(r\u001b[39m.\u001b[39mt\u001b[39m+\u001b[39mdt)\n",
      "\u001b[0;31mNameError\u001b[0m: name 'xrange' is not defined"
     ]
    }
   ],
   "source": [
    "in_scaling = 0.05\n",
    "in_weight = input_weight * in_scaling\n",
    "#np.savetxt('in_weight.txt', in_weight)\t\n",
    "#in_weight =np.loadtxt('in_weight.txt')\n",
    "                \n",
    "rregr =  training(data_source,in_weight, weights)\n",
    "    \n",
    "#np.savetxt('beta.txt', rregr.beta)\n",
    "#rregr.beta =np.loadtxt('beta.txt')\n",
    "\n",
    "results_2 = []\n",
    "results_3 = []\n",
    "results_4 = []\n",
    "\n",
    "results = []\n",
    "sample_len=1000\n",
    "n_samples=100\n",
    "\n",
    "\n",
    "[x, y, x_der] = data_source.func(n_samples=n_samples,sample_len=sample_len)\n",
    "\n",
    "res_dynamics = [reservoirs.simulate_reservoir_dynamics(weights, in_weight, input_der, sample_len) for input_der in x_der]\n",
    "\n",
    "\n",
    "for i in range(n_samples):\n",
    "\n",
    "    pred = rregr(res_dynamics[i])\n",
    "\n",
    "    n_out = 3  ### FOURTH GENE\n",
    "    error = 0\n",
    "    \n",
    "    for outs in range(n_out):\n",
    "        steady = np.mean(pred[outs][(sample_len-200):])\n",
    "        steady_target = np.mean(y[i][(sample_len-200):,outs])\n",
    "        error += (np.absolute(steady_target - steady))\n",
    "\n",
    "\n",
    "    results.append(error)\n",
    "    results_2.append(steady)\n",
    "    results_3.append(pred)\n",
    "    results_4.append(x[i][:])\n",
    "        \n",
    "    \n",
    "\n",
    "\n"
   ]
  },
  {
   "cell_type": "code",
   "execution_count": null,
   "metadata": {},
   "outputs": [],
   "source": []
  }
 ],
 "metadata": {
  "kernelspec": {
   "display_name": "Python 3.9.12 ('base')",
   "language": "python",
   "name": "python3"
  },
  "language_info": {
   "codemirror_mode": {
    "name": "ipython",
    "version": 3
   },
   "file_extension": ".py",
   "mimetype": "text/x-python",
   "name": "python",
   "nbconvert_exporter": "python",
   "pygments_lexer": "ipython3",
   "version": "3.9.12"
  },
  "orig_nbformat": 4,
  "vscode": {
   "interpreter": {
    "hash": "1d0c3caab67cdc3cb671aad33f4d3ea243842a14d4ea407190d5b54cd82f317a"
   }
  }
 },
 "nbformat": 4,
 "nbformat_minor": 2
}
